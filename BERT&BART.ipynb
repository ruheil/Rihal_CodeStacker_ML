{
 "cells": [
  {
   "cell_type": "markdown",
   "id": "65d0ad17-1c5c-4ad3-abf3-2d4a0b5232ff",
   "metadata": {},
   "source": [
    "# <b>Rihal CodeStacker4: ML</b>\n",
    "### <ul><u><b><i>IMPORTANT:</i></b></u><li>If you want to test the models only without fine-tuning them, please load the models as explained in the notebook</li><br/><li>Make sure to install requriments.txt</li></ul>\n",
    "## Level 1: The Basics\n",
    "#### Develop a model that can categorize news articles into their respective categories."
   ]
  },
  {
   "cell_type": "code",
   "execution_count": 1,
   "id": "6bef2097-a055-4811-9ffc-fd365b5885b4",
   "metadata": {},
   "outputs": [
    {
     "name": "stdout",
     "output_type": "stream",
     "text": [
      "Mon Apr  8 10:28:53 2024       \n",
      "+-----------------------------------------------------------------------------------------+\n",
      "| NVIDIA-SMI 550.54.14              Driver Version: 550.54.14      CUDA Version: 12.4     |\n",
      "|-----------------------------------------+------------------------+----------------------+\n",
      "| GPU  Name                 Persistence-M | Bus-Id          Disp.A | Volatile Uncorr. ECC |\n",
      "| Fan  Temp   Perf          Pwr:Usage/Cap |           Memory-Usage | GPU-Util  Compute M. |\n",
      "|                                         |                        |               MIG M. |\n",
      "|=========================================+========================+======================|\n",
      "|   0  NVIDIA GeForce RTX 4090        On  |   00000000:A2:00.0 Off |                  Off |\n",
      "|  0%   25C    P8             15W /  450W |       0MiB /  24564MiB |      0%      Default |\n",
      "|                                         |                        |                  N/A |\n",
      "+-----------------------------------------+------------------------+----------------------+\n",
      "                                                                                         \n",
      "+-----------------------------------------------------------------------------------------+\n",
      "| Processes:                                                                              |\n",
      "|  GPU   GI   CI        PID   Type   Process name                              GPU Memory |\n",
      "|        ID   ID                                                               Usage      |\n",
      "|=========================================================================================|\n",
      "|  No running processes found                                                             |\n",
      "+-----------------------------------------------------------------------------------------+\n"
     ]
    }
   ],
   "source": [
    "!nvidia-smi"
   ]
  },
  {
   "cell_type": "markdown",
   "id": "5cf2038c-fc76-4801-9948-4e68483215fe",
   "metadata": {},
   "source": [
    "### Importing needed libraries:"
   ]
  },
  {
   "cell_type": "code",
   "execution_count": 1,
   "id": "005a9817-a37a-49a8-9ee1-b747dbffe516",
   "metadata": {},
   "outputs": [
    {
     "name": "stderr",
     "output_type": "stream",
     "text": [
      "2024-04-08 10:47:02.579366: I tensorflow/core/platform/cpu_feature_guard.cc:210] This TensorFlow binary is optimized to use available CPU instructions in performance-critical operations.\n",
      "To enable the following instructions: AVX2 FMA, in other operations, rebuild TensorFlow with the appropriate compiler flags.\n"
     ]
    }
   ],
   "source": [
    "from transformers import TFAutoModel, AutoTokenizer, Trainer, TrainingArguments\n",
    "import pandas as pd, numpy as np\n",
    "from datasets import Dataset, DatasetDict\n",
    "import tensorflow as tf\n",
    "from sklearn.preprocessing import LabelEncoder\n",
    "import keras"
   ]
  },
  {
   "cell_type": "markdown",
   "id": "8e85c8fb-cba6-4907-a88a-0d9c308c2d2c",
   "metadata": {},
   "source": [
    "### Processing the input file:"
   ]
  },
  {
   "cell_type": "code",
   "execution_count": 2,
   "id": "1f8efe6c-a983-494c-94a5-2c90b706a1cd",
   "metadata": {},
   "outputs": [],
   "source": [
    "df_train = pd.read_json(\"./N24News/nytimes_train.json\")\n",
    "df_test = pd.read_json(\"./N24News/nytimes_test.json\")"
   ]
  },
  {
   "cell_type": "code",
   "execution_count": 3,
   "id": "9bca0af2-c2e2-478e-aacf-16557243c68c",
   "metadata": {},
   "outputs": [],
   "source": [
    "df_train = df_train.replace(r'^\\s*$', np.nan, regex=True)\n",
    "df_train = df_train.replace(r'\\n',' ', regex=True)\n",
    "df_train = df_train.replace(r'--', '', regex=True)\n",
    "df_train = df_train.replace(r'\\\\\\\\', '', regex=True)\n",
    "df_test = df_test.replace(r'^\\s*$', np.nan, regex=True)\n",
    "df_test = df_test.replace(r'\\n',' ', regex=True)\n",
    "df_test = df_test.replace(r'--', '', regex=True)\n",
    "df_test = df_test.replace(r'\\\\\\\\', '', regex=True)"
   ]
  },
  {
   "cell_type": "code",
   "execution_count": 4,
   "id": "8a45bd23-a105-4e8d-8656-2567643a6227",
   "metadata": {},
   "outputs": [],
   "source": [
    "df_train = df_test.dropna()\n",
    "df_test = df_test.dropna()"
   ]
  },
  {
   "cell_type": "code",
   "execution_count": 5,
   "id": "c44b879e-9c8d-48bf-92e7-bdc36e3b17d7",
   "metadata": {},
   "outputs": [],
   "source": [
    "df_train = df_train.drop(['article_url', 'article_id', 'image', 'image_id'], axis=1)\n",
    "df_test = df_test.drop(['article_url', 'article_id', 'image', 'image_id'], axis=1)"
   ]
  },
  {
   "cell_type": "markdown",
   "id": "560b7508-db70-4a20-b514-84d7470315ef",
   "metadata": {},
   "source": [
    "### Loading The <a href=\"https://huggingface.co/google-bert/bert-base-uncased\">bert-base-uncased</a> LLM:"
   ]
  },
  {
   "cell_type": "code",
   "execution_count": 7,
   "id": "eb6de7bb-03a2-4cb7-80ab-e945357cfa3f",
   "metadata": {},
   "outputs": [
    {
     "name": "stderr",
     "output_type": "stream",
     "text": [
      "2024-04-08 10:29:02.679643: I tensorflow/core/common_runtime/gpu/gpu_device.cc:1928] Created device /job:localhost/replica:0/task:0/device:GPU:0 with 22283 MB memory:  -> device: 0, name: NVIDIA GeForce RTX 4090, pci bus id: 0000:a2:00.0, compute capability: 8.9\n",
      "Some weights of the PyTorch model were not used when initializing the TF 2.0 model TFBertModel: ['cls.predictions.bias', 'cls.predictions.transform.dense.weight', 'cls.predictions.transform.LayerNorm.weight', 'cls.seq_relationship.weight', 'cls.predictions.transform.dense.bias', 'cls.seq_relationship.bias', 'cls.predictions.transform.LayerNorm.bias']\n",
      "- This IS expected if you are initializing TFBertModel from a PyTorch model trained on another task or with another architecture (e.g. initializing a TFBertForSequenceClassification model from a BertForPreTraining model).\n",
      "- This IS NOT expected if you are initializing TFBertModel from a PyTorch model that you expect to be exactly identical (e.g. initializing a TFBertForSequenceClassification model from a BertForSequenceClassification model).\n",
      "All the weights of TFBertModel were initialized from the PyTorch model.\n",
      "If your task is similar to the task the model of the checkpoint was trained on, you can already use TFBertModel for predictions without further training.\n"
     ]
    }
   ],
   "source": [
    "model = TFAutoModel.from_pretrained(\"bert-base-uncased\")"
   ]
  },
  {
   "cell_type": "markdown",
   "id": "ea13782b-fa4b-41ce-9a7f-6a3e8b326eb0",
   "metadata": {},
   "source": [
    "#### Loading its tokenizer:"
   ]
  },
  {
   "cell_type": "code",
   "execution_count": 8,
   "id": "ff2b0f1e-e264-4504-9f51-eb9508de5287",
   "metadata": {},
   "outputs": [],
   "source": [
    "tokenizer = AutoTokenizer.from_pretrained(\"bert-base-uncased\")"
   ]
  },
  {
   "cell_type": "markdown",
   "id": "a82092e5-cc78-42a8-8c49-97328bf93416",
   "metadata": {},
   "source": [
    "### Encoding The Classes:"
   ]
  },
  {
   "cell_type": "code",
   "execution_count": 6,
   "id": "8ca630fa-d38a-426e-bdfb-cef513ad4d06",
   "metadata": {},
   "outputs": [
    {
     "name": "stdout",
     "output_type": "stream",
     "text": [
      "Label Mapping:\n",
      "{'Art & Design': 0, 'Automobiles': 1, 'Books': 2, 'Dance': 3, 'Economy': 4, 'Education': 5, 'Fashion & Style': 6, 'Food': 7, 'Global Business': 8, 'Health': 9, 'Media': 10, 'Movies': 11, 'Music': 12, 'Opinion': 13, 'Real Estate': 14, 'Science': 15, 'Sports': 16, 'Style': 17, 'Technology': 18, 'Television': 19, 'Theater': 20, 'Travel': 21, 'Well': 22, 'Your Money': 23}\n"
     ]
    }
   ],
   "source": [
    "label_encoder = LabelEncoder()\n",
    "\n",
    "# Fit and transform the 'section' column to encode the labels\n",
    "df_train['label'] = label_encoder.fit_transform(df_train['section'])\n",
    "df_test['label'] = label_encoder.fit_transform(df_train['section'])\n",
    "\n",
    "label_map = dict(zip(label_encoder.classes_, label_encoder.transform(label_encoder.classes_)))\n",
    "\n",
    "# Print the mapping\n",
    "print(\"Label Mapping:\")\n",
    "print(label_map)"
   ]
  },
  {
   "cell_type": "markdown",
   "id": "4e0c1ad0-ed29-404c-8a6b-11cbf1c93667",
   "metadata": {},
   "source": [
    "### Converting DF to DS:"
   ]
  },
  {
   "cell_type": "code",
   "execution_count": 7,
   "id": "2a0e543e-8c8f-4174-9912-6511c0edc37a",
   "metadata": {},
   "outputs": [
    {
     "data": {
      "text/plain": [
       "DatasetDict({\n",
       "    train: Dataset({\n",
       "        features: ['section', 'headline', 'article', 'abstract', 'caption', 'label'],\n",
       "        num_rows: 6088\n",
       "    })\n",
       "    test: Dataset({\n",
       "        features: ['section', 'headline', 'article', 'abstract', 'caption', 'label'],\n",
       "        num_rows: 6088\n",
       "    })\n",
       "})"
      ]
     },
     "execution_count": 7,
     "metadata": {},
     "output_type": "execute_result"
    }
   ],
   "source": [
    "ds_train = Dataset.from_pandas(df_train)\n",
    "ds_test = Dataset.from_pandas(df_test)\n",
    "ds_train = ds_train.remove_columns('__index_level_0__')\n",
    "ds_test = ds_test.remove_columns('__index_level_0__')\n",
    "ds = DatasetDict({\"train\":ds_train,\"test\":ds_test})\n",
    "ds"
   ]
  },
  {
   "cell_type": "markdown",
   "id": "f9cb30ac-7346-4097-8ea0-b14a8316f26f",
   "metadata": {},
   "source": [
    "### Tokenize The DS:"
   ]
  },
  {
   "cell_type": "code",
   "execution_count": 11,
   "id": "cb2fa6de-b7e1-440a-b9b5-8640cbf8a383",
   "metadata": {},
   "outputs": [],
   "source": [
    "def tokenize(batch):\n",
    "    return tokenizer(batch[\"article\"], padding=True, truncation=True)"
   ]
  },
  {
   "cell_type": "code",
   "execution_count": 12,
   "id": "d530f327-fd19-47b9-acf2-a5be32cb8700",
   "metadata": {},
   "outputs": [
    {
     "data": {
      "application/vnd.jupyter.widget-view+json": {
       "model_id": "6659b4a39d1d4db284c64da30ca9c0d8",
       "version_major": 2,
       "version_minor": 0
      },
      "text/plain": [
       "Map:   0%|          | 0/6088 [00:00<?, ? examples/s]"
      ]
     },
     "metadata": {},
     "output_type": "display_data"
    },
    {
     "data": {
      "application/vnd.jupyter.widget-view+json": {
       "model_id": "0718bf9c5ff44ff39b5f90929c230ef7",
       "version_major": 2,
       "version_minor": 0
      },
      "text/plain": [
       "Map:   0%|          | 0/6088 [00:00<?, ? examples/s]"
      ]
     },
     "metadata": {},
     "output_type": "display_data"
    }
   ],
   "source": [
    "ds_encoded = ds.map(tokenize, batched=True, batch_size=None)"
   ]
  },
  {
   "cell_type": "code",
   "execution_count": 13,
   "id": "23132017-444d-41b0-853a-47572de405d7",
   "metadata": {},
   "outputs": [
    {
     "data": {
      "text/plain": [
       "DatasetDict({\n",
       "    train: Dataset({\n",
       "        features: ['section', 'headline', 'article', 'abstract', 'caption', 'label', 'input_ids', 'token_type_ids', 'attention_mask'],\n",
       "        num_rows: 6088\n",
       "    })\n",
       "    test: Dataset({\n",
       "        features: ['section', 'headline', 'article', 'abstract', 'caption', 'label', 'input_ids', 'token_type_ids', 'attention_mask'],\n",
       "        num_rows: 6088\n",
       "    })\n",
       "})"
      ]
     },
     "execution_count": 13,
     "metadata": {},
     "output_type": "execute_result"
    }
   ],
   "source": [
    "ds_encoded"
   ]
  },
  {
   "cell_type": "code",
   "execution_count": 14,
   "id": "e96680a9-06c2-42eb-91d8-e3792ffdabc2",
   "metadata": {},
   "outputs": [],
   "source": [
    "ds_encoded.set_format('tf', columns=['input_ids', 'attention_mask', 'token_type_ids', 'label'])\n",
    "\n",
    "BATCH_SIZE = 16\n",
    "\n",
    "def order(inp):\n",
    "    '''\n",
    "    This function will group all the inputs of BERT\n",
    "    into a single dictionary and then output it with\n",
    "    labels.\n",
    "    '''\n",
    "    data = list(inp.values())\n",
    "    return {\n",
    "        'input_ids': data[1],\n",
    "        'attention_mask': data[2],\n",
    "        'token_type_ids': data[3]\n",
    "    }, data[0]\n",
    "\n",
    "# converting train split of `ds_encoded` to tensorflow format\n",
    "train_dataset = tf.data.Dataset.from_tensor_slices(ds_encoded['train'][:])\n",
    "# set batch_size and shuffle\n",
    "train_dataset = train_dataset.batch(BATCH_SIZE).shuffle(1000)\n",
    "# map the `order` function\n",
    "train_dataset = train_dataset.map(order, num_parallel_calls=tf.data.AUTOTUNE)\n",
    "\n",
    "# ... doing the same for test set ...\n",
    "test_dataset = tf.data.Dataset.from_tensor_slices(ds_encoded['test'][:])\n",
    "test_dataset = test_dataset.batch(BATCH_SIZE)\n",
    "test_dataset = test_dataset.map(order, num_parallel_calls=tf.data.AUTOTUNE)"
   ]
  },
  {
   "cell_type": "markdown",
   "id": "1410cf7b-43f0-4e88-8b90-fc7bf911f01c",
   "metadata": {},
   "source": [
    "### Create Custome keras.Model Class to Predict Classes (Labels):"
   ]
  },
  {
   "cell_type": "code",
   "execution_count": 15,
   "id": "82413241-203a-4591-8a9e-2cc0749a9b63",
   "metadata": {},
   "outputs": [],
   "source": [
    "class BERTForClassification(tf.keras.Model):\n",
    "\n",
    "    def __init__(self, bert_model, num_classes):\n",
    "        super().__init__()\n",
    "        self.bert = bert_model\n",
    "        self.fc = tf.keras.layers.Dense(num_classes, activation='softmax')\n",
    "\n",
    "    def call(self, inputs):\n",
    "        x = self.bert(inputs)[1]\n",
    "        return self.fc(x)\n"
   ]
  },
  {
   "cell_type": "code",
   "execution_count": 16,
   "id": "057c061b-0b57-4ca0-8550-6e5f040f64dc",
   "metadata": {},
   "outputs": [],
   "source": [
    "classifier = BERTForClassification(model, num_classes=24)\n",
    "\n",
    "classifier.compile(\n",
    "    optimizer=tf.keras.optimizers.Adam(learning_rate=1e-5),\n",
    "    loss=tf.keras.losses.SparseCategoricalCrossentropy(),\n",
    "    metrics=['accuracy']\n",
    ")\n"
   ]
  },
  {
   "cell_type": "markdown",
   "id": "4650befc-eb37-4f16-b78e-3be8c86afc3f",
   "metadata": {},
   "source": [
    "### Fine-Tune the Classifier:"
   ]
  },
  {
   "cell_type": "code",
   "execution_count": 17,
   "id": "7aa95aff-1d54-4e84-acc3-6e7741a1ea91",
   "metadata": {},
   "outputs": [
    {
     "name": "stdout",
     "output_type": "stream",
     "text": [
      "Epoch 1/8\n"
     ]
    },
    {
     "name": "stderr",
     "output_type": "stream",
     "text": [
      "WARNING: All log messages before absl::InitializeLog() is called are written to STDERR\n",
      "I0000 00:00:1712568649.848087   15751 service.cc:145] XLA service 0x7ef768eeafd0 initialized for platform CUDA (this does not guarantee that XLA will be used). Devices:\n",
      "I0000 00:00:1712568649.848154   15751 service.cc:153]   StreamExecutor device (0): NVIDIA GeForce RTX 4090, Compute Capability 8.9\n",
      "2024-04-08 09:30:49.858363: I tensorflow/compiler/mlir/tensorflow/utils/dump_mlir_util.cc:268] disabling MLIR crash reproducer, set env var `MLIR_CRASH_REPRODUCER_DIRECTORY` to enable.\n",
      "2024-04-08 09:30:49.873924: I external/local_xla/xla/stream_executor/cuda/cuda_dnn.cc:465] Loaded cuDNN version 8902\n",
      "I0000 00:00:1712568650.021791   15751 device_compiler.h:188] Compiled cluster using XLA!  This line is logged at most once for the lifetime of the process.\n"
     ]
    },
    {
     "name": "stdout",
     "output_type": "stream",
     "text": [
      "381/381 [==============================] - 188s 305ms/step - loss: 1.8918 - accuracy: 0.5176\n",
      "Epoch 2/8\n",
      "381/381 [==============================] - 103s 270ms/step - loss: 0.7181 - accuracy: 0.8050\n",
      "Epoch 3/8\n",
      "381/381 [==============================] - 103s 269ms/step - loss: 0.4687 - accuracy: 0.8666\n",
      "Epoch 4/8\n",
      "381/381 [==============================] - 103s 269ms/step - loss: 0.3167 - accuracy: 0.9102\n",
      "Epoch 5/8\n",
      "381/381 [==============================] - 103s 269ms/step - loss: 0.2133 - accuracy: 0.9389\n",
      "Epoch 6/8\n",
      "381/381 [==============================] - 103s 269ms/step - loss: 0.1447 - accuracy: 0.9575\n",
      "Epoch 7/8\n",
      "381/381 [==============================] - 102s 269ms/step - loss: 0.1019 - accuracy: 0.9716\n",
      "Epoch 8/8\n",
      "381/381 [==============================] - 102s 269ms/step - loss: 0.0792 - accuracy: 0.9768\n"
     ]
    }
   ],
   "source": [
    "history = classifier.fit(\n",
    "    train_dataset,\n",
    "    epochs=8\n",
    ")"
   ]
  },
  {
   "cell_type": "markdown",
   "id": "59f0d763-7893-4bcd-bdd8-b33fa6cbdb32",
   "metadata": {},
   "source": [
    "### Evaluate on Unseen Data (Test Data):"
   ]
  },
  {
   "cell_type": "code",
   "execution_count": 18,
   "id": "6e33faf0-9481-4c36-8ea2-76b64cf1f1ca",
   "metadata": {},
   "outputs": [
    {
     "name": "stdout",
     "output_type": "stream",
     "text": [
      "381/381 [==============================] - 44s 98ms/step - loss: 0.0323 - accuracy: 0.9941\n",
      "Test Accuracy:  0.994086742401123\n"
     ]
    }
   ],
   "source": [
    "loss, acc = classifier.evaluate(test_dataset)\n",
    "print(\"Test Accuracy: \", acc)"
   ]
  },
  {
   "cell_type": "markdown",
   "id": "dd594356-c9a1-48d5-b993-92f23bf787ed",
   "metadata": {},
   "source": [
    "#### As seen, the model has 99.4% accuracy on unseen data <b><i>with only 8 epochs</b></i>. \n",
    "### Now, we save the model:"
   ]
  },
  {
   "cell_type": "code",
   "execution_count": 25,
   "id": "11b8d0d0-c0be-41ee-867c-daa74082a6e9",
   "metadata": {},
   "outputs": [],
   "source": [
    "classifier.save_weights('./BERTClassificationWeights', save_format='tf')"
   ]
  },
  {
   "cell_type": "code",
   "execution_count": 17,
   "id": "7107047a-29d2-49df-a466-d0833c7f3fdb",
   "metadata": {},
   "outputs": [],
   "source": [
    "def predict_category(text, model):\n",
    "    # Tokenize text\n",
    "    inputs = tokenizer(text, padding=True, truncation=True, max_length=512, return_tensors='tf')\n",
    "    \n",
    "    # Extract input tensors\n",
    "    input_ids = inputs[\"input_ids\"]\n",
    "    token_type_ids = inputs[\"token_type_ids\"]\n",
    "    attention_mask = inputs[\"attention_mask\"]\n",
    "    \n",
    "    # Run inference\n",
    "    predictions = model.predict({\"input_ids\": input_ids,\n",
    "                                      \"token_type_ids\": token_type_ids,\n",
    "                                      \"attention_mask\": attention_mask})\n",
    "    \n",
    "    # Get the predicted label\n",
    "    predicted_label = tf.argmax(predictions, axis=1).numpy()[0]\n",
    "    \n",
    "    return predicted_label"
   ]
  },
  {
   "cell_type": "markdown",
   "id": "3ce00597-228f-45ed-93c9-46b81d791e7d",
   "metadata": {},
   "source": [
    "### Loading the model from local files:"
   ]
  },
  {
   "cell_type": "code",
   "execution_count": 18,
   "id": "413c08e9-172f-45ce-8c63-d072fd613c08",
   "metadata": {},
   "outputs": [],
   "source": [
    "new_model = BERTForClassification(model, num_classes=24)\n",
    "\n",
    "new_model.compile(\n",
    "    optimizer=tf.keras.optimizers.Adam(learning_rate=1e-5),\n",
    "    loss=tf.keras.losses.SparseCategoricalCrossentropy(),\n",
    "    metrics=['accuracy']\n",
    ")"
   ]
  },
  {
   "cell_type": "code",
   "execution_count": 19,
   "id": "c5861640-ff3b-4f27-bc27-4af16736abd1",
   "metadata": {},
   "outputs": [
    {
     "data": {
      "text/plain": [
       "<tensorflow.python.checkpoint.checkpoint.CheckpointLoadStatus at 0x7fa431852c10>"
      ]
     },
     "execution_count": 19,
     "metadata": {},
     "output_type": "execute_result"
    }
   ],
   "source": [
    "new_model.load_weights('./BERTClassificationWeights')"
   ]
  },
  {
   "cell_type": "markdown",
   "id": "f9d54193-fa2d-460d-99d5-320c8e35d6d1",
   "metadata": {},
   "source": [
    "#### Evaluate on model on test data to check it's loaded correctly:"
   ]
  },
  {
   "cell_type": "code",
   "execution_count": 20,
   "id": "242a5ea6-3881-4601-aea0-ceb3d3635fa5",
   "metadata": {},
   "outputs": [
    {
     "name": "stdout",
     "output_type": "stream",
     "text": [
      "381/381 [==============================] - 65s 99ms/step - loss: 0.0323 - accuracy: 0.9941\n",
      "Test Accuracy:  0.994086742401123\n"
     ]
    }
   ],
   "source": [
    "loss, acc = new_model.evaluate(test_dataset)\n",
    "print(\"Test Accuracy: \", acc)"
   ]
  },
  {
   "cell_type": "markdown",
   "id": "f56e413e-3d91-469c-b524-163752c1d416",
   "metadata": {},
   "source": [
    "#### Test classification on some articles:"
   ]
  },
  {
   "cell_type": "code",
   "execution_count": 21,
   "id": "a0c8ad7c-e81f-4ab0-a905-bfca744729a7",
   "metadata": {},
   "outputs": [
    {
     "name": "stdout",
     "output_type": "stream",
     "text": [
      "1/1 [==============================] - 7s 7s/step\n",
      "\n",
      "Article Text:\n",
      "CHURCHILL: BLOOD, SWEAT & OIL PAINT (2015) Stream on Acorn TV and Amazon. Winston Churchill is famous for his achievements as a statesman  successfully navigating Britain through World War II chief among them  and for his legendary wit and outsize appetites. This BBC special introduces viewers to a lesser known dimension of his life: his passion for painting. The journalist and television presenter Andrew Marr visits Churchill's studio at Chartwell, his longtime home, and some of the areas that he loved to paint. Marr also shares his own experiences with Churchill's preferred hobby. Interviews with Celia Sandys and Emma Soames, Churchill's descendants, reveal the extent of their grandfather's dedication to his craft. And commentary from David Coombs shines a light on Churchill's relationships with professional painters of his time.  DRUNK PARENTS (2019) Stream on Netflix; rent on Amazon, Google Play, iTunes, Vudu and YouTube. Comedy thrives on misfortune, especially when it befalls unsympathetic victims and encourages mischief. Frank (Alec Baldwin) and Nancy (Salma Hayek) are a seemingly wealthy couple who discover that their immediate financial future is bleak rather than bright. Frank's once-profitable company is going down the drain and their daughter Rachel has just started college at an Ivy League school. Fueled by booze, the desperate parents concoct scheme after scheme to try to wriggle out of their economic jam and keep Rachel enrolled while also hiding their plight from their neighbors and friends.\n",
      "Predicted Label: Television\n",
      "Actual Label: Television\n",
      "\n",
      "1/1 [==============================] - 6s 6s/step\n",
      "\n",
      "Article Text:\n",
      "BUENOS AIRES  Since his 2015 election, President Mauricio Macri has pushed to reconnect Argentina to the global financial system, after years of isolation. His approach  emphasizing lower tariffs, accurate economic data, trade pacts and the freer flow of capital  was largely aimed at coaxing foreign investment back to Argentina and ending the economic exile that followed the country's default in 2001. But over the last week, Argentina has been reminded that when capital is free to flow in, it can also flow out, creating profound economic implications. With foreign investors pulling their money en masse, Argentina's central bank was forced to take drastic action to stabilize the country's currency. On Friday, policymakers lifted the benchmark interest rate to 40 percent after days of intervening heavily in financial markets.  While it helped settle the markets, the move will weigh on the prospects for the president's ambitious economic overhaul. It also has the potential to crimp growth, adding to political discontent. The rate increase, a day after the Argentine peso fell 8.5 percent against the dollar, was the third in a week. The central bank said it would use \"all the tools at its disposal\" to slow inflation, which in March was up 25 percent from a year earlier, to 15 percent this year, a goal most analysts now see as unrealistic. In parallel, officials announced that they would cut government spending, and reduce the primary budget deficit to 2.7 percent, from the earlier goal of 3.2 percent. Their decision was seen as a response to criticism from investors that Mr. Macri's government had not been cutting spending quickly enough. Mr. Macri was sworn into office in December 2015. Argentina had been closed to international markets for more than a decade amid a long-running legal fight with bondholders that followed a default on its debt. Early on, Mr. Macri's policies were greeted with widespread optimism by financial markets, which gobbled up the country's newly issued bonds.  In a show of market confidence, prices for the country's government bonds rose, pushing interest rates lower. Those lower rates helped to stimulate economic growth. \"There was overconfidence on the part of policymakers about how much could be done given the constraints they had,\" said Alvaro Vivanco, a strategist covering Latin American bond and currency markets for the Spanish bank BBVA. But doubts about the government's ability to quickly push through the changes have emerged in recent months. In January, Argentina's central bank cut interest rates and increased its inflation target, a decision interpreted by some as weakening the government's commitment to getting consumer prices under control. \"The central bank was cutting, with inflation expectations deteriorating,\" said Gabriel Gersztein, head of Latin American strategy at BNP Paribas. \"And this was a wake-up call for international investors.\" The global economic backdrop has also been changing. With the United States economy on solid footing, its short-term interest rates have been rising. That has put upward pressure on the United States dollar, and has resulted in a slide for the peso. That decline in the peso has accelerated in recent days, as foreign investors began to see their returns vaporized by the falling currency. * Ford and Rivian no longer plan to work jointly on electric vehicles. * Elizabeth Holmes took the stand in her trial. Follow along with our reporters. * Ken Griffin, head of Citadel, bid highest for a copy of the Constitution. People moved to the exits, in part because of a new income tax on foreign investors. As more and more investors pulled out, Argentina was suddenly facing a currency run. Argentine officials have struggled to shore up the currency. Since March, Argentina has spent more than $7.7 billion of its international reserves, with the pace speeding up late last week.  Governments have a few tools they can use to stem the outflow of capital. One of them is to sharply raise interest rates. Those higher rates translate into potentially stronger returns for investors. As such, they can attract money into an economy, which helps prop up a currency. But it's a tricky play to pull off. Brazil raised interest rates sharply to stop an outflow of capital in the late 1990s, ultimately pushing benchmark interest rates to roughly 40 percent. More recently, in 2014, Turkey suddenly ratcheted up a key central bank rate to 10 percent from 4.5 percent in order to stop a sell-off in the lira. That same year, the central bank of Russia pushed interest rates sharply higher  to 17 percent from 10.5 percent  to keep the ruble from collapsing in response to sanctions over the annexation of Crimea and a sharp drop in oil prices. Russia also has one of the biggest interest-rate jumps on record, when in 1998 its rates reached 150 percent in an effort to stem another impending collapse of the ruble. But high interest rates have economic costs. They make it particularly difficult for businesses and consumer to borrow money. The lack of spending, in turn, can slow growth and ultimately spark a recession. The key for Argentina will be to keep rates high just long enough to inspire confidence that policymakers have halted the currency run, but not so long that the increase drains the economy. \"This was done in order to stop the bleeding,\" Mr. Gersztein of BNP Paribas said. \"It's like you have someone in the E.R. You need to take very short-term, bold decisions. \"Then once you stabilize the patient,\" he added, \"you need to take different decisions in order to make the patient get better and recover.\"  Politically, it all puts Mr. Macri in a more precarious position. In recent months, his popularity has declined. In an April poll of Argentines by Synopsis, a local consultancy, 43 percent said they had a negative view of the government, compared with 34 percent with a positive view. That was a sharp shift from November, when nearly 52 percent said they had a positive image of the government and Mr. Macri's allies did better than expected in midterm elections. The president is now balancing the concerns of a restive population and the needs of international investors  and they don't necessarily want the same thing. International investors want assurance that Mr. Macri will continue to cut spending and stick with other parts of his plan. But those same efforts are frustrating certain constituencies at home. Unions are worried that workers are losing purchasing power amid high inflation and a broad increase in public utility rates, part of the government's efforts to decrease spending by slashing subsidies. Hundreds gathered on Friday in downtown Buenos Aires outside the National Electricity Regulator for a union protest against recent increases in utility prices. Last month, thousands took to the streets to protest the hikes. The higher utility costs are hitting the manufacturing sector hard, particularly companies that compete against imported goods. Ancers, a tableware manufacturer in Buenos Aires, has seen its gas bill soar by 48 percent while electricity costs have doubled since the beginning of last year. During that time, the number of employees has declined by 25 percent, said Angel Vazquez, the company's founder and president. \"We may very well have to close soon,\" Mr. Vazquez said. \"I don't know if we can hold out for another year.\"  What happens next with the economy may translate into whether Mr. Macri's coalition will win the presidential election next year or whether discontent will give rise to an interventionist government that will undo many of his changes. Although the economy as a whole is growing  expanding 5.1 percent in February, on the year  the latest measures are prompting some analysts to revise their forecasts downward. \"The government so far has not been able to show big victories, and it's obvious that if it is going to take unpopular measures, its popularity will suffer,\" said Fausto Spotorno, the chief economist at Orlando Ferreres & Asociados, a local consultancy. \"But it has rushed many of the measures so that it can avoid bad news next year.\"\n",
      "Predicted Label: Economy\n",
      "Actual Label: Economy\n",
      "\n",
      "1/1 [==============================] - 0s 59ms/step\n",
      "\n",
      "Article Text:\n",
      "Metformin, the world's most widely prescribed diabetes drug, might do more than control diabetes. A study in Scotland in 2005 found that people taking metformin were 23 percent less likely to get cancer, suggesting that it might also prevent cancer. Other studies are exploring metformin's ability to treat cancer, alone and in combination with other therapies. But if you have cancer, it's likely you aren't taking metformin, even though it's inexpensive, safe and combines readily with other therapies. That's because metformin's label doesn't specify it as a cancer drug. And while doctors are free to use drugs approved for one disease for another disease, many don't. That could be changing. Given the enormous cost of developing new drugs, various organizations and individuals are going back to basics and championing the cause of drug repurposing in attempts to get new, affordable treatments to patients as quickly as possible.  \"Drug discovery is very costly and very slow,\" he said. \"We've shown we can be a lot faster and cost-effective. We have to be. We don't want to be charging six or seven figures to treat a rare disease. That just bankrupts health systems and families.\" Pfizer, which held the patent for Viagra, became eager to repurpose it to treat erectile dysfunction; it knew that such a pill would immediately be in wide demand. But that level of enthusiasm is rare. In most cases, by the time there's evidence of a new use for a drug, it's already off-patent  so companies have little or no financial incentive to investigate its potential to treat or prevent other diseases.  Without evidence of that potential, doctors are reluctant to prescribe. While precise figures are unavailable, hundreds of drugs have been approved for one disease but show promise in treating a range of others, from cancer to rare tropical diseases. Without interest from pharmaceutical companies, exploration has been left largely to nonprofit organizations and even patients themselves. The Anticancer Fund has trawled published scientific literature going as far back as the 1960s, and has identified almost 300 drugs that studies say hold anticancer properties, but have not been specifically approved for cancer. Most have lost patent protection. The fund is interested now in repurposing drugs that might prevent the recurrence of cancer after surgery when used in combination with checkpoint inhibitors  a form of cancer immunotherapy  to improve and sustain the immune system's response. One example for which it has high hopes is propranolol, a generic 1960s blood pressure drug, to help treat pancreatic cancer and cancer of the inner lining of blood vessels  known as angiosarcoma  in combination with other cancer therapies. Cancer Research UK, a charity based in London, is now conducting trials of aspirin to see if it can prevent cancer from recurring; an antifungal medication to treat bowel cancer; and metformin to help treat early prostate cancer. \"There's no doubt at all about the benefits of using an existing drug, generic or not generic, because it's a short cut to patient benefits,\" said Hamish Ryder, director of therapeutic discovery laboratories at Cancer Research UK. \"It could easily take off 10 years to getting a new therapy for patients.\" Drug repurposing still faces major barriers. The big one is the expense of clinical trials, which are too much for medical charities to handle  perhaps too much for anyone to handle if a drug is off patent and there is no money to be made. \"In the end, drug repurposing has to be commercially viable in some way,\" Dr. Brown said.  Another barrier is excitement. \"These are old unsexy drugs. If you're doing work with a new molecule there's a huge amount of interest,\" Mr. Pantziarka said. \"But if you're doing something with aspirin, it's not that interesting. You don't get that hype. We like to think medicine isn't fashion driven, but there is a degree of that going on.\" Doctor and patient acceptance is another concern. While off-label prescribing is entirely legal  the Food and Drug Administration doesn't have the legal authority to regulate the practice of medicine  many doctors still fear lawsuits. As I was told by one woman who preferred not to be identified in order to protect her privacy found out, many doctors disagree with experimenting with off-label drugs. Almost four years ago, that woman was diagnosed with an incurable, Stage 4 cancer of the bile ducts, known as cholangiocarcinoma. The cancer, which is extremely rare, had spread and 24 tumors had grown throughout her body. The patient, who had three children younger than 5 at the time of her diagnosis, was told she had six to 12 months to live. She quit her job and dedicated her time to finding a way  any way  of surviving. She saw as many doctors as possible to gain insight into her rare cancer, but some were unwilling to prescribe drugs outside the standard cancer treatments. \"I saw a doctor who thought more out of the box, and she recommended me to look into metformin,\" the patient said. Metformin does appear to inhibit the proliferation of tumor cells, but the mechanism underpinning that isn't yet fully understood. Nevertheless, she added metformin to her chemotherapy for six months. Her search for a cure didn't end there, however. It led next to fenbendazole, an anti-parasitic drug for animals. Joe Tippens, an American who was diagnosed with Stage 4 small-cell lung cancer in 2017, claims that taking fenbendazole saved his life; he has been cancer-free now for a year, and his story has gone viral on the internet. While a few studies in mice and petri dishes have suggested that the drug may have anticancer properties, studies on humans is lacking.  \"Dog deworming tablets are really cheap and have low toxicity,\" the patient said. \"Yes, they're meant for dogs, but for human use it's fine.\" The woman with bile duct cancer went into remission for seven months while she was using metformin in combination with chemotherapy, but the cancer came back. She is continuing chemotherapy and continues to search for repurposed drugs. Four years after her diagnosis, she hasn't lost hope. But how many patients, even on their deathbed, are willing to go beyond their prescribed treatment? Few can dedicate significant time to reading the scientific literature, especially without any prior medical knowledge. And health insurers are reluctant to pay for drugs that haven't been approved for the disease in question. There are no numbers on how many people have turned to metformin and other such drugs in their desperation to be cured. Mr. Pantziarka believes the key to expanding the use of repurposed drugs is in the hands of drug regulators, who have the power to approve and relabel them for new diseases. When a regulator licenses a drug, clinical guidelines are updated and doctors gain experience prescribing it. \"The ideal solution is for repurposed drugs to be on label, Mr. Pantziarka said. \"We want to establish a pathway that once you have the efficacy from clinical trials then you can go all the way to the market,\" he said. \"At the end of the day, repurposing is not just science and medicine but also policymaking.\" In an encouraging step toward overcoming the institutional barriers surrounding drug repurposing, such issues are under review by an expert group on repurposing within the European Commission. Currently only the original developers or makers of drugs are permitted to adjust a drug's label. But the review is looking at creating a way for third parties to apply for drug label extensions. \"We think today of today's generic drugs, but there's tomorrow's generic drugs,\" said Mr. Ryder of Cancer Research UK. \"I don't think we should limit our thinking to aspirin and metformin. I think that we're at the tip of the iceberg in terms of potential for repurposing therapies.\" Sophie Cousins is an Australian writer and freelance journalist. To receive email alerts for Fixes columns, sign up here. The Times is committed to publishing a diversity of letters to the editor. We'd like to hear what you think about this or any of our articles. Here are some tips. And here's our email: letters@nytimes.com. Follow The New York Times Opinion section on Facebook, Twitter (@NYTopinion) and Instagram.\n",
      "Predicted Label: Opinion\n",
      "Actual Label: Opinion\n",
      "\n"
     ]
    }
   ],
   "source": [
    "for article, actual_label in zip(ds['test'][3:6]['article'], ds['test'][3:6]['label']):\n",
    "    predicted_label = predict_category(article, new_model)\n",
    "    \n",
    "    print(\"\\nArticle Text:\")\n",
    "    print(article)\n",
    "    \n",
    "    # Decode predicted and actual labels\n",
    "    decoded_predicted_label = label_encoder.inverse_transform([predicted_label])[0]\n",
    "    decoded_actual_label = label_encoder.inverse_transform([actual_label])[0]\n",
    "    \n",
    "    print(\"Predicted Label:\", decoded_predicted_label)\n",
    "    print(\"Actual Label:\", decoded_actual_label)\n",
    "    print()"
   ]
  },
  {
   "cell_type": "code",
   "execution_count": 8,
   "id": "4268730c-87ce-4810-94aa-339fb429a04f",
   "metadata": {},
   "outputs": [],
   "source": [
    "ds = ds.remove_columns('label')"
   ]
  },
  {
   "cell_type": "markdown",
   "id": "19c2bb73-e9bc-4236-9a90-dde433253981",
   "metadata": {},
   "source": [
    "## Level 2: The Intermediate\n",
    "#### Generate abstracts that provide a clear and concise summary of the article."
   ]
  },
  {
   "cell_type": "markdown",
   "id": "d852eb37-5369-47af-b0de-693e4187415f",
   "metadata": {},
   "source": [
    "### Importing needed libraries:"
   ]
  },
  {
   "cell_type": "code",
   "execution_count": 9,
   "id": "151041ca-b39a-46f2-92ab-0d493d471b7c",
   "metadata": {},
   "outputs": [],
   "source": [
    "from transformers import AutoModelForSeq2SeqLM, pipeline\n",
    "import nltk\n",
    "from nltk.tokenize import sent_tokenize\n",
    "from tqdm import tqdm\n",
    "import torch\n",
    "from datasets import load_metric"
   ]
  },
  {
   "cell_type": "markdown",
   "id": "ed3ebd65-310e-4d59-96c5-5cc0076ceb20",
   "metadata": {},
   "source": [
    "### Loading the <a href=\"https://huggingface.co/facebook/bart-large-cnn\"> bart-large-cnn </a> LLM and its Tokenizer:"
   ]
  },
  {
   "cell_type": "code",
   "execution_count": 10,
   "id": "9b0a2a26-8d13-4905-8594-56864234bd24",
   "metadata": {},
   "outputs": [],
   "source": [
    "model_ckpt = \"facebook/bart-large-cnn\"\n",
    "device = \"cuda\" if torch.cuda.is_available() else \"cpu\"\n",
    "tokenizer = AutoTokenizer.from_pretrained(model_ckpt)\n",
    "model_bart = AutoModelForSeq2SeqLM.from_pretrained(model_ckpt).to(device)"
   ]
  },
  {
   "cell_type": "markdown",
   "id": "8d28f05a-69ff-4f8e-a216-24584b166158",
   "metadata": {},
   "source": [
    "#### Split the dataset into smaller batches that we can process simultaneously:"
   ]
  },
  {
   "cell_type": "code",
   "execution_count": 11,
   "id": "b36e0a06-46b0-4b60-813e-cf40e708111d",
   "metadata": {},
   "outputs": [],
   "source": [
    "def generate_batch_sized_chunks(list_of_elements, batch_size):\n",
    "    for i in range(0, len(list_of_elements), batch_size):\n",
    "        yield list_of_elements[i : i + batch_size]"
   ]
  },
  {
   "cell_type": "markdown",
   "id": "7dffcca4-7d44-498c-b649-4974a707100f",
   "metadata": {},
   "source": [
    "#### Calculate ROGUE for the test dataset with the Bert model:\n",
    "##### This is useful to compare our fine-tuned model (generated summaries) with the vanilla model (original summaries) based on ROGUE"
   ]
  },
  {
   "cell_type": "code",
   "execution_count": 12,
   "id": "77eeca0d-cc29-4e59-b925-7458dd60a127",
   "metadata": {},
   "outputs": [],
   "source": [
    "def calculate_metric_on_test_ds(dataset, metric, model, tokenizer, \n",
    "                                batch_size=4, device=device, \n",
    "                                column_text=\"article\", \n",
    "                                column_summary=\"highlights\"):\n",
    "    article_batches = list(generate_batch_sized_chunks(dataset[column_text], batch_size))\n",
    "    target_batches = list(generate_batch_sized_chunks(dataset[column_summary], batch_size))\n",
    "\n",
    "    for article_batch, target_batch in tqdm(\n",
    "        zip(article_batches, target_batches), total=len(article_batches)):\n",
    "        \n",
    "        inputs = tokenizer(article_batch, max_length=1024,  truncation=True, \n",
    "                           padding=\"max_length\", return_tensors=\"pt\")\n",
    "        \n",
    "        # Ensure that inputs are on the correct device\n",
    "        inputs = {k: v.to(device) for k, v in inputs.items()}\n",
    "        \n",
    "        with torch.no_grad():\n",
    "            # Move model to the device\n",
    "            model.to(device)\n",
    "            # Generate summaries\n",
    "            summaries = model.generate(input_ids=inputs[\"input_ids\"],\n",
    "                                       attention_mask=inputs[\"attention_mask\"], \n",
    "                                       length_penalty=0.8, num_beams=8, max_length=128)\n",
    "            \n",
    "        # Move generated summaries to the same device as inputs\n",
    "        summaries = summaries.to(device)\n",
    "        \n",
    "        # Decode the generated summaries\n",
    "        decoded_summaries = [tokenizer.decode(s, skip_special_tokens=True, \n",
    "                                              clean_up_tokenization_spaces=True) \n",
    "                             for s in summaries]      \n",
    "        \n",
    "        # Replace empty strings with spaces\n",
    "        decoded_summaries = [d.replace(\"\", \" \") for d in decoded_summaries]\n",
    "        \n",
    "        # Add batch to the metric\n",
    "        metric.add_batch(predictions=decoded_summaries, references=target_batch)\n",
    "        \n",
    "    # Compute and return the ROUGE scores\n",
    "    score = metric.compute()\n",
    "    return score"
   ]
  },
  {
   "cell_type": "code",
   "execution_count": 13,
   "id": "f9ac10ae-0eb6-4022-85db-39e32d2d5805",
   "metadata": {},
   "outputs": [
    {
     "name": "stderr",
     "output_type": "stream",
     "text": [
      "/tmp/ipykernel_3423/2898586761.py:2: FutureWarning: load_metric is deprecated and will be removed in the next major version of datasets. Use 'evaluate.load' instead, from the new library 🤗 Evaluate: https://huggingface.co/docs/evaluate\n",
      "  rouge_metric = load_metric('rouge')\n",
      "/usr/local/lib/python3.11/dist-packages/datasets/load.py:756: FutureWarning: The repository for rouge contains custom code which must be executed to correctly load the metric. You can inspect the repository content at https://raw.githubusercontent.com/huggingface/datasets/2.18.0/metrics/rouge/rouge.py\n",
      "You can avoid this message in future by passing the argument `trust_remote_code=True`.\n",
      "Passing `trust_remote_code=True` will be mandatory to load this metric from the next major release of `datasets`.\n",
      "  warnings.warn(\n",
      "100%|██████████| 761/761 [29:11<00:00,  2.30s/it]\n"
     ]
    }
   ],
   "source": [
    "# Load the ROUGE metric\n",
    "rouge_metric = load_metric('rouge')\n",
    "score = calculate_metric_on_test_ds(ds['test'], rouge_metric, model_bart, tokenizer, column_text='article', column_summary='abstract', batch_size=8)"
   ]
  },
  {
   "cell_type": "code",
   "execution_count": 16,
   "id": "fcfe122f-590d-4ffc-bbd7-b0a69e84990b",
   "metadata": {},
   "outputs": [
    {
     "data": {
      "text/html": [
       "<div>\n",
       "<style scoped>\n",
       "    .dataframe tbody tr th:only-of-type {\n",
       "        vertical-align: middle;\n",
       "    }\n",
       "\n",
       "    .dataframe tbody tr th {\n",
       "        vertical-align: top;\n",
       "    }\n",
       "\n",
       "    .dataframe thead th {\n",
       "        text-align: right;\n",
       "    }\n",
       "</style>\n",
       "<table border=\"1\" class=\"dataframe\">\n",
       "  <thead>\n",
       "    <tr style=\"text-align: right;\">\n",
       "      <th></th>\n",
       "      <th>rouge1</th>\n",
       "      <th>rouge2</th>\n",
       "      <th>rougeL</th>\n",
       "      <th>rougeLsum</th>\n",
       "    </tr>\n",
       "  </thead>\n",
       "  <tbody>\n",
       "    <tr>\n",
       "      <th>BART</th>\n",
       "      <td>0.010103</td>\n",
       "      <td>0.00037</td>\n",
       "      <td>0.010081</td>\n",
       "      <td>0.010084</td>\n",
       "    </tr>\n",
       "  </tbody>\n",
       "</table>\n",
       "</div>"
      ],
      "text/plain": [
       "        rouge1   rouge2    rougeL  rougeLsum\n",
       "BART  0.010103  0.00037  0.010081   0.010084"
      ]
     },
     "execution_count": 16,
     "metadata": {},
     "output_type": "execute_result"
    }
   ],
   "source": [
    "rouge_names = [\"rouge1\", \"rouge2\", \"rougeL\", \"rougeLsum\"]\n",
    "rouge_dict = dict((rn, score[rn].mid.fmeasure ) for rn in rouge_names )\n",
    "\n",
    "pd.DataFrame(rouge_dict, index = ['BART'])"
   ]
  },
  {
   "cell_type": "markdown",
   "id": "1e065e8b-f8eb-4199-8440-76c2df9e28d5",
   "metadata": {},
   "source": [
    "### Convert the Exmaple to Features Our Model Can Predict:\n",
    "##### (basic tokenization)"
   ]
  },
  {
   "cell_type": "code",
   "execution_count": 17,
   "id": "092d90cd-199a-4131-84b5-0547c3b90ff4",
   "metadata": {},
   "outputs": [
    {
     "data": {
      "application/vnd.jupyter.widget-view+json": {
       "model_id": "4301720cdf5645a79d7af0aad4a4500b",
       "version_major": 2,
       "version_minor": 0
      },
      "text/plain": [
       "Map:   0%|          | 0/6088 [00:00<?, ? examples/s]"
      ]
     },
     "metadata": {},
     "output_type": "display_data"
    },
    {
     "name": "stderr",
     "output_type": "stream",
     "text": [
      "/usr/local/lib/python3.11/dist-packages/transformers/tokenization_utils_base.py:3935: UserWarning: `as_target_tokenizer` is deprecated and will be removed in v5 of Transformers. You can tokenize your labels by using the argument `text_target` of the regular `__call__` method (either in the same call as your input texts if you use the same keyword arguments, or in a separate call.\n",
      "  warnings.warn(\n"
     ]
    },
    {
     "data": {
      "application/vnd.jupyter.widget-view+json": {
       "model_id": "0d9c86000889488eb1b6409ea9816b9a",
       "version_major": 2,
       "version_minor": 0
      },
      "text/plain": [
       "Map:   0%|          | 0/6088 [00:00<?, ? examples/s]"
      ]
     },
     "metadata": {},
     "output_type": "display_data"
    }
   ],
   "source": [
    "def convert_examples_to_features(example_batch):\n",
    "    input_encodings = tokenizer(example_batch['article'] , max_length = 1024, truncation = True )\n",
    "    \n",
    "    with tokenizer.as_target_tokenizer():\n",
    "        target_encodings = tokenizer(example_batch['abstract'], max_length = 128, truncation = True )\n",
    "        \n",
    "    return {\n",
    "        'input_ids' : input_encodings['input_ids'],\n",
    "        'attention_mask': input_encodings['attention_mask'],\n",
    "        'labels': target_encodings['input_ids']\n",
    "    }\n",
    "    \n",
    "ds_encoded = ds.map(convert_examples_to_features, batched = True)"
   ]
  },
  {
   "cell_type": "markdown",
   "id": "7dc8fd84-a33e-4b01-ac1c-bc31f2676ab2",
   "metadata": {},
   "source": [
    "### Create a Data Collector"
   ]
  },
  {
   "cell_type": "code",
   "execution_count": 18,
   "id": "12030435-7ce5-4a6f-97d9-d6577a81010a",
   "metadata": {},
   "outputs": [],
   "source": [
    "from transformers import DataCollatorForSeq2Seq\n",
    "\n",
    "seq2seq_data_collator = DataCollatorForSeq2Seq(tokenizer, model=model_bart)"
   ]
  },
  {
   "cell_type": "markdown",
   "id": "9cec8321-1ba3-401d-ac8d-414d0c191e07",
   "metadata": {},
   "source": [
    "### Fine-Tune the LLM:"
   ]
  },
  {
   "cell_type": "code",
   "execution_count": 33,
   "id": "86ddb021-ed3e-476f-b380-ee2ccaf3c9fd",
   "metadata": {},
   "outputs": [],
   "source": [
    "from transformers import TrainingArguments, Trainer\n",
    "\n",
    "trainer_args = TrainingArguments(\n",
    "    output_dir='bart-cnn', num_train_epochs=3, warmup_steps=500,\n",
    "    per_device_train_batch_size=1, per_device_eval_batch_size=1,\n",
    "    weight_decay=0.01, logging_steps=10,\n",
    "    evaluation_strategy='no', eval_steps=500, save_steps=1e6,\n",
    "    gradient_accumulation_steps=16,\n",
    "    do_eval=False\n",
    ") "
   ]
  },
  {
   "cell_type": "code",
   "execution_count": 34,
   "id": "2968f469-3e6e-4c33-ae94-b6a7bafb5149",
   "metadata": {},
   "outputs": [
    {
     "name": "stderr",
     "output_type": "stream",
     "text": [
      "/usr/local/lib/python3.11/dist-packages/accelerate/accelerator.py:436: FutureWarning: Passing the following arguments to `Accelerator` is deprecated and will be removed in version 1.0 of Accelerate: dict_keys(['dispatch_batches', 'split_batches', 'even_batches', 'use_seedable_sampler']). Please pass an `accelerate.DataLoaderConfiguration` instead: \n",
      "dataloader_config = DataLoaderConfiguration(dispatch_batches=None, split_batches=False, even_batches=True, use_seedable_sampler=True)\n",
      "  warnings.warn(\n",
      "WARNING:accelerate.utils.other:Detected kernel version 5.4.0, which is below the recommended minimum of 5.5.0; this can cause the process to hang. It is recommended to upgrade the kernel to the minimum version or higher.\n"
     ]
    }
   ],
   "source": [
    "trainer = Trainer(model=model_bart, args=trainer_args,\n",
    "                  tokenizer=tokenizer, data_collator=seq2seq_data_collator,\n",
    "                  train_dataset=ds_encoded[\"train\"]\n",
    "                 )     "
   ]
  },
  {
   "cell_type": "code",
   "execution_count": 35,
   "id": "1fb4a28e-6e4e-466d-834b-f88499b56617",
   "metadata": {},
   "outputs": [
    {
     "data": {
      "text/html": [
       "\n",
       "    <div>\n",
       "      \n",
       "      <progress value='1140' max='1140' style='width:300px; height:20px; vertical-align: middle;'></progress>\n",
       "      [1140/1140 32:23, Epoch 2/3]\n",
       "    </div>\n",
       "    <table border=\"1\" class=\"dataframe\">\n",
       "  <thead>\n",
       " <tr style=\"text-align: left;\">\n",
       "      <th>Step</th>\n",
       "      <th>Training Loss</th>\n",
       "    </tr>\n",
       "  </thead>\n",
       "  <tbody>\n",
       "    <tr>\n",
       "      <td>10</td>\n",
       "      <td>1.488300</td>\n",
       "    </tr>\n",
       "    <tr>\n",
       "      <td>20</td>\n",
       "      <td>1.576300</td>\n",
       "    </tr>\n",
       "    <tr>\n",
       "      <td>30</td>\n",
       "      <td>1.621800</td>\n",
       "    </tr>\n",
       "    <tr>\n",
       "      <td>40</td>\n",
       "      <td>1.452900</td>\n",
       "    </tr>\n",
       "    <tr>\n",
       "      <td>50</td>\n",
       "      <td>1.385500</td>\n",
       "    </tr>\n",
       "    <tr>\n",
       "      <td>60</td>\n",
       "      <td>1.410000</td>\n",
       "    </tr>\n",
       "    <tr>\n",
       "      <td>70</td>\n",
       "      <td>1.248800</td>\n",
       "    </tr>\n",
       "    <tr>\n",
       "      <td>80</td>\n",
       "      <td>1.467800</td>\n",
       "    </tr>\n",
       "    <tr>\n",
       "      <td>90</td>\n",
       "      <td>1.570700</td>\n",
       "    </tr>\n",
       "    <tr>\n",
       "      <td>100</td>\n",
       "      <td>1.482200</td>\n",
       "    </tr>\n",
       "    <tr>\n",
       "      <td>110</td>\n",
       "      <td>1.452900</td>\n",
       "    </tr>\n",
       "    <tr>\n",
       "      <td>120</td>\n",
       "      <td>1.485100</td>\n",
       "    </tr>\n",
       "    <tr>\n",
       "      <td>130</td>\n",
       "      <td>1.354700</td>\n",
       "    </tr>\n",
       "    <tr>\n",
       "      <td>140</td>\n",
       "      <td>1.496900</td>\n",
       "    </tr>\n",
       "    <tr>\n",
       "      <td>150</td>\n",
       "      <td>1.376400</td>\n",
       "    </tr>\n",
       "    <tr>\n",
       "      <td>160</td>\n",
       "      <td>1.295500</td>\n",
       "    </tr>\n",
       "    <tr>\n",
       "      <td>170</td>\n",
       "      <td>1.314000</td>\n",
       "    </tr>\n",
       "    <tr>\n",
       "      <td>180</td>\n",
       "      <td>1.358200</td>\n",
       "    </tr>\n",
       "    <tr>\n",
       "      <td>190</td>\n",
       "      <td>1.320300</td>\n",
       "    </tr>\n",
       "    <tr>\n",
       "      <td>200</td>\n",
       "      <td>1.251500</td>\n",
       "    </tr>\n",
       "    <tr>\n",
       "      <td>210</td>\n",
       "      <td>1.144600</td>\n",
       "    </tr>\n",
       "    <tr>\n",
       "      <td>220</td>\n",
       "      <td>1.171400</td>\n",
       "    </tr>\n",
       "    <tr>\n",
       "      <td>230</td>\n",
       "      <td>1.104900</td>\n",
       "    </tr>\n",
       "    <tr>\n",
       "      <td>240</td>\n",
       "      <td>1.215900</td>\n",
       "    </tr>\n",
       "    <tr>\n",
       "      <td>250</td>\n",
       "      <td>1.188000</td>\n",
       "    </tr>\n",
       "    <tr>\n",
       "      <td>260</td>\n",
       "      <td>1.073400</td>\n",
       "    </tr>\n",
       "    <tr>\n",
       "      <td>270</td>\n",
       "      <td>1.056100</td>\n",
       "    </tr>\n",
       "    <tr>\n",
       "      <td>280</td>\n",
       "      <td>1.155800</td>\n",
       "    </tr>\n",
       "    <tr>\n",
       "      <td>290</td>\n",
       "      <td>1.193300</td>\n",
       "    </tr>\n",
       "    <tr>\n",
       "      <td>300</td>\n",
       "      <td>1.077500</td>\n",
       "    </tr>\n",
       "    <tr>\n",
       "      <td>310</td>\n",
       "      <td>1.064200</td>\n",
       "    </tr>\n",
       "    <tr>\n",
       "      <td>320</td>\n",
       "      <td>1.053800</td>\n",
       "    </tr>\n",
       "    <tr>\n",
       "      <td>330</td>\n",
       "      <td>1.089500</td>\n",
       "    </tr>\n",
       "    <tr>\n",
       "      <td>340</td>\n",
       "      <td>1.031800</td>\n",
       "    </tr>\n",
       "    <tr>\n",
       "      <td>350</td>\n",
       "      <td>1.092600</td>\n",
       "    </tr>\n",
       "    <tr>\n",
       "      <td>360</td>\n",
       "      <td>1.110700</td>\n",
       "    </tr>\n",
       "    <tr>\n",
       "      <td>370</td>\n",
       "      <td>1.141000</td>\n",
       "    </tr>\n",
       "    <tr>\n",
       "      <td>380</td>\n",
       "      <td>0.978200</td>\n",
       "    </tr>\n",
       "    <tr>\n",
       "      <td>390</td>\n",
       "      <td>0.661900</td>\n",
       "    </tr>\n",
       "    <tr>\n",
       "      <td>400</td>\n",
       "      <td>0.616200</td>\n",
       "    </tr>\n",
       "    <tr>\n",
       "      <td>410</td>\n",
       "      <td>0.638900</td>\n",
       "    </tr>\n",
       "    <tr>\n",
       "      <td>420</td>\n",
       "      <td>0.546200</td>\n",
       "    </tr>\n",
       "    <tr>\n",
       "      <td>430</td>\n",
       "      <td>0.579200</td>\n",
       "    </tr>\n",
       "    <tr>\n",
       "      <td>440</td>\n",
       "      <td>0.664200</td>\n",
       "    </tr>\n",
       "    <tr>\n",
       "      <td>450</td>\n",
       "      <td>0.559600</td>\n",
       "    </tr>\n",
       "    <tr>\n",
       "      <td>460</td>\n",
       "      <td>0.680300</td>\n",
       "    </tr>\n",
       "    <tr>\n",
       "      <td>470</td>\n",
       "      <td>0.630600</td>\n",
       "    </tr>\n",
       "    <tr>\n",
       "      <td>480</td>\n",
       "      <td>0.613200</td>\n",
       "    </tr>\n",
       "    <tr>\n",
       "      <td>490</td>\n",
       "      <td>0.685000</td>\n",
       "    </tr>\n",
       "    <tr>\n",
       "      <td>500</td>\n",
       "      <td>1.103300</td>\n",
       "    </tr>\n",
       "    <tr>\n",
       "      <td>510</td>\n",
       "      <td>1.472500</td>\n",
       "    </tr>\n",
       "    <tr>\n",
       "      <td>520</td>\n",
       "      <td>1.408400</td>\n",
       "    </tr>\n",
       "    <tr>\n",
       "      <td>530</td>\n",
       "      <td>1.519500</td>\n",
       "    </tr>\n",
       "    <tr>\n",
       "      <td>540</td>\n",
       "      <td>1.497100</td>\n",
       "    </tr>\n",
       "    <tr>\n",
       "      <td>550</td>\n",
       "      <td>1.407200</td>\n",
       "    </tr>\n",
       "    <tr>\n",
       "      <td>560</td>\n",
       "      <td>1.471300</td>\n",
       "    </tr>\n",
       "    <tr>\n",
       "      <td>570</td>\n",
       "      <td>1.467800</td>\n",
       "    </tr>\n",
       "    <tr>\n",
       "      <td>580</td>\n",
       "      <td>1.402800</td>\n",
       "    </tr>\n",
       "    <tr>\n",
       "      <td>590</td>\n",
       "      <td>1.345300</td>\n",
       "    </tr>\n",
       "    <tr>\n",
       "      <td>600</td>\n",
       "      <td>1.409000</td>\n",
       "    </tr>\n",
       "    <tr>\n",
       "      <td>610</td>\n",
       "      <td>1.433200</td>\n",
       "    </tr>\n",
       "    <tr>\n",
       "      <td>620</td>\n",
       "      <td>1.488000</td>\n",
       "    </tr>\n",
       "    <tr>\n",
       "      <td>630</td>\n",
       "      <td>1.438800</td>\n",
       "    </tr>\n",
       "    <tr>\n",
       "      <td>640</td>\n",
       "      <td>1.483100</td>\n",
       "    </tr>\n",
       "    <tr>\n",
       "      <td>650</td>\n",
       "      <td>1.552400</td>\n",
       "    </tr>\n",
       "    <tr>\n",
       "      <td>660</td>\n",
       "      <td>1.537500</td>\n",
       "    </tr>\n",
       "    <tr>\n",
       "      <td>670</td>\n",
       "      <td>1.558100</td>\n",
       "    </tr>\n",
       "    <tr>\n",
       "      <td>680</td>\n",
       "      <td>1.418400</td>\n",
       "    </tr>\n",
       "    <tr>\n",
       "      <td>690</td>\n",
       "      <td>1.512800</td>\n",
       "    </tr>\n",
       "    <tr>\n",
       "      <td>700</td>\n",
       "      <td>1.485900</td>\n",
       "    </tr>\n",
       "    <tr>\n",
       "      <td>710</td>\n",
       "      <td>1.454600</td>\n",
       "    </tr>\n",
       "    <tr>\n",
       "      <td>720</td>\n",
       "      <td>1.465600</td>\n",
       "    </tr>\n",
       "    <tr>\n",
       "      <td>730</td>\n",
       "      <td>1.374800</td>\n",
       "    </tr>\n",
       "    <tr>\n",
       "      <td>740</td>\n",
       "      <td>1.504200</td>\n",
       "    </tr>\n",
       "    <tr>\n",
       "      <td>750</td>\n",
       "      <td>1.522800</td>\n",
       "    </tr>\n",
       "    <tr>\n",
       "      <td>760</td>\n",
       "      <td>1.522300</td>\n",
       "    </tr>\n",
       "    <tr>\n",
       "      <td>770</td>\n",
       "      <td>0.902600</td>\n",
       "    </tr>\n",
       "    <tr>\n",
       "      <td>780</td>\n",
       "      <td>0.745100</td>\n",
       "    </tr>\n",
       "    <tr>\n",
       "      <td>790</td>\n",
       "      <td>0.746700</td>\n",
       "    </tr>\n",
       "    <tr>\n",
       "      <td>800</td>\n",
       "      <td>0.877000</td>\n",
       "    </tr>\n",
       "    <tr>\n",
       "      <td>810</td>\n",
       "      <td>0.755300</td>\n",
       "    </tr>\n",
       "    <tr>\n",
       "      <td>820</td>\n",
       "      <td>0.775900</td>\n",
       "    </tr>\n",
       "    <tr>\n",
       "      <td>830</td>\n",
       "      <td>0.721300</td>\n",
       "    </tr>\n",
       "    <tr>\n",
       "      <td>840</td>\n",
       "      <td>0.762100</td>\n",
       "    </tr>\n",
       "    <tr>\n",
       "      <td>850</td>\n",
       "      <td>0.741000</td>\n",
       "    </tr>\n",
       "    <tr>\n",
       "      <td>860</td>\n",
       "      <td>0.779300</td>\n",
       "    </tr>\n",
       "    <tr>\n",
       "      <td>870</td>\n",
       "      <td>0.771100</td>\n",
       "    </tr>\n",
       "    <tr>\n",
       "      <td>880</td>\n",
       "      <td>0.735200</td>\n",
       "    </tr>\n",
       "    <tr>\n",
       "      <td>890</td>\n",
       "      <td>0.719400</td>\n",
       "    </tr>\n",
       "    <tr>\n",
       "      <td>900</td>\n",
       "      <td>0.773500</td>\n",
       "    </tr>\n",
       "    <tr>\n",
       "      <td>910</td>\n",
       "      <td>0.799300</td>\n",
       "    </tr>\n",
       "    <tr>\n",
       "      <td>920</td>\n",
       "      <td>0.752000</td>\n",
       "    </tr>\n",
       "    <tr>\n",
       "      <td>930</td>\n",
       "      <td>0.734300</td>\n",
       "    </tr>\n",
       "    <tr>\n",
       "      <td>940</td>\n",
       "      <td>0.747500</td>\n",
       "    </tr>\n",
       "    <tr>\n",
       "      <td>950</td>\n",
       "      <td>0.725700</td>\n",
       "    </tr>\n",
       "    <tr>\n",
       "      <td>960</td>\n",
       "      <td>0.880900</td>\n",
       "    </tr>\n",
       "    <tr>\n",
       "      <td>970</td>\n",
       "      <td>0.724200</td>\n",
       "    </tr>\n",
       "    <tr>\n",
       "      <td>980</td>\n",
       "      <td>0.761500</td>\n",
       "    </tr>\n",
       "    <tr>\n",
       "      <td>990</td>\n",
       "      <td>0.772800</td>\n",
       "    </tr>\n",
       "    <tr>\n",
       "      <td>1000</td>\n",
       "      <td>0.742000</td>\n",
       "    </tr>\n",
       "    <tr>\n",
       "      <td>1010</td>\n",
       "      <td>0.812500</td>\n",
       "    </tr>\n",
       "    <tr>\n",
       "      <td>1020</td>\n",
       "      <td>0.702700</td>\n",
       "    </tr>\n",
       "    <tr>\n",
       "      <td>1030</td>\n",
       "      <td>0.748600</td>\n",
       "    </tr>\n",
       "    <tr>\n",
       "      <td>1040</td>\n",
       "      <td>0.701900</td>\n",
       "    </tr>\n",
       "    <tr>\n",
       "      <td>1050</td>\n",
       "      <td>0.707600</td>\n",
       "    </tr>\n",
       "    <tr>\n",
       "      <td>1060</td>\n",
       "      <td>0.768500</td>\n",
       "    </tr>\n",
       "    <tr>\n",
       "      <td>1070</td>\n",
       "      <td>0.737300</td>\n",
       "    </tr>\n",
       "    <tr>\n",
       "      <td>1080</td>\n",
       "      <td>0.715900</td>\n",
       "    </tr>\n",
       "    <tr>\n",
       "      <td>1090</td>\n",
       "      <td>0.703800</td>\n",
       "    </tr>\n",
       "    <tr>\n",
       "      <td>1100</td>\n",
       "      <td>0.745100</td>\n",
       "    </tr>\n",
       "    <tr>\n",
       "      <td>1110</td>\n",
       "      <td>0.691800</td>\n",
       "    </tr>\n",
       "    <tr>\n",
       "      <td>1120</td>\n",
       "      <td>0.799400</td>\n",
       "    </tr>\n",
       "    <tr>\n",
       "      <td>1130</td>\n",
       "      <td>0.744300</td>\n",
       "    </tr>\n",
       "    <tr>\n",
       "      <td>1140</td>\n",
       "      <td>0.764500</td>\n",
       "    </tr>\n",
       "  </tbody>\n",
       "</table><p>"
      ],
      "text/plain": [
       "<IPython.core.display.HTML object>"
      ]
     },
     "metadata": {},
     "output_type": "display_data"
    },
    {
     "data": {
      "text/plain": [
       "TrainOutput(global_step=1140, training_loss=1.0813508042118005, metrics={'train_runtime': 1945.7525, 'train_samples_per_second': 9.387, 'train_steps_per_second': 0.586, 'total_flos': 2.914525223345357e+16, 'train_loss': 1.0813508042118005, 'epoch': 3.0})"
      ]
     },
     "execution_count": 35,
     "metadata": {},
     "output_type": "execute_result"
    }
   ],
   "source": [
    "trainer.train()"
   ]
  },
  {
   "cell_type": "markdown",
   "id": "988a41bf-af7c-409a-8888-2bc141a558f6",
   "metadata": {},
   "source": [
    "#### Calculate ROGUE for the test dataset with the <b>Fine Tuned</b> Bert model:"
   ]
  },
  {
   "cell_type": "code",
   "execution_count": 36,
   "id": "705ad32e-fb11-4a05-81a0-99e08866fe55",
   "metadata": {},
   "outputs": [
    {
     "name": "stderr",
     "output_type": "stream",
     "text": [
      "100%|██████████| 761/761 [25:04<00:00,  1.98s/it]\n"
     ]
    }
   ],
   "source": [
    "score = calculate_metric_on_test_ds(ds['test'], rouge_metric, trainer.model, tokenizer, batch_size = 8, column_text = 'article', column_summary= 'abstract')"
   ]
  },
  {
   "cell_type": "code",
   "execution_count": 37,
   "id": "81502819-57f1-452b-8093-e84c4c5f6140",
   "metadata": {},
   "outputs": [
    {
     "data": {
      "text/html": [
       "<div>\n",
       "<style scoped>\n",
       "    .dataframe tbody tr th:only-of-type {\n",
       "        vertical-align: middle;\n",
       "    }\n",
       "\n",
       "    .dataframe tbody tr th {\n",
       "        vertical-align: top;\n",
       "    }\n",
       "\n",
       "    .dataframe thead th {\n",
       "        text-align: right;\n",
       "    }\n",
       "</style>\n",
       "<table border=\"1\" class=\"dataframe\">\n",
       "  <thead>\n",
       "    <tr style=\"text-align: right;\">\n",
       "      <th></th>\n",
       "      <th>rouge1</th>\n",
       "      <th>rouge2</th>\n",
       "      <th>rougeL</th>\n",
       "      <th>rougeLsum</th>\n",
       "    </tr>\n",
       "  </thead>\n",
       "  <tbody>\n",
       "    <tr>\n",
       "      <th>BART</th>\n",
       "      <td>0.011099</td>\n",
       "      <td>0.000589</td>\n",
       "      <td>0.011079</td>\n",
       "      <td>0.011086</td>\n",
       "    </tr>\n",
       "  </tbody>\n",
       "</table>\n",
       "</div>"
      ],
      "text/plain": [
       "        rouge1    rouge2    rougeL  rougeLsum\n",
       "BART  0.011099  0.000589  0.011079   0.011086"
      ]
     },
     "execution_count": 37,
     "metadata": {},
     "output_type": "execute_result"
    }
   ],
   "source": [
    "rouge_dict = dict((rn, score[rn].mid.fmeasure ) for rn in rouge_names )\n",
    "\n",
    "pd.DataFrame(rouge_dict, index = ['BART'])"
   ]
  },
  {
   "cell_type": "markdown",
   "id": "09d6078b-fc3c-4eba-85aa-4a40be4ab551",
   "metadata": {},
   "source": [
    "These scores suggest that after fine-tuning the model, there were small improvements in the generated summaries' overlap with the reference summaries. While the improvements are small, they indicate that the fine-tuning process helped the model generate summaries that are slightly more similar to the reference summaries. The improvements are particularly notable in the Rouge-1 and Rouge-L scores, which measure overlap in single words and consider some aspects of word order, respectively."
   ]
  },
  {
   "cell_type": "markdown",
   "id": "56509414-0bc9-42f6-a31a-631963d7ba04",
   "metadata": {},
   "source": [
    "### Generate Sample Abstracts of Articles:"
   ]
  },
  {
   "cell_type": "code",
   "execution_count": 39,
   "id": "2dbeaf9e-5169-40c7-8b12-556c9bc6c25b",
   "metadata": {},
   "outputs": [
    {
     "name": "stdout",
     "output_type": "stream",
     "text": [
      "Example 1:\n",
      "Article:\n",
      " CHURCHILL: BLOOD, SWEAT & OIL PAINT (2015) Stream on Acorn TV and Amazon. Winston Churchill is famous for his achievements as a statesman  successfully navigating Britain through World War II chief among them  and for his legendary wit and outsize appetites. This BBC special introduces viewers to a lesser known dimension of his life: his passion for painting. The journalist and television presenter Andrew Marr visits Churchill's studio at Chartwell, his longtime home, and some of the areas that he loved to paint. Marr also shares his own experiences with Churchill's preferred hobby. Interviews with Celia Sandys and Emma Soames, Churchill's descendants, reveal the extent of their grandfather's dedication to his craft. And commentary from David Coombs shines a light on Churchill's relationships with professional painters of his time.  DRUNK PARENTS (2019) Stream on Netflix; rent on Amazon, Google Play, iTunes, Vudu and YouTube. Comedy thrives on misfortune, especially when it befalls unsympathetic victims and encourages mischief. Frank (Alec Baldwin) and Nancy (Salma Hayek) are a seemingly wealthy couple who discover that their immediate financial future is bleak rather than bright. Frank's once-profitable company is going down the drain and their daughter Rachel has just started college at an Ivy League school. Fueled by booze, the desperate parents concoct scheme after scheme to try to wriggle out of their economic jam and keep Rachel enrolled while also hiding their plight from their neighbors and friends.\n",
      "\n",
      "Original Abstract:\n",
      " The comedian's culinary apprenticeship continues with a new self-shot season. And a cult classic starring Rose McGowan arrives on Shudder.\n",
      "\n",
      "Generated Abstract:\n",
      " A new documentary about Winston Churchill explores his love of painting. And a dramedy about a drunken couple's desperate financial situation airs on Hulu. Plus a ton of other streaming video content (iTunes, Netflix, Spotify, KBox, YouTube). Go ahead, grab your popcorn!\n",
      "\n",
      "Example 2:\n",
      "Article:\n",
      " BUENOS AIRES  Since his 2015 election, President Mauricio Macri has pushed to reconnect Argentina to the global financial system, after years of isolation. His approach  emphasizing lower tariffs, accurate economic data, trade pacts and the freer flow of capital  was largely aimed at coaxing foreign investment back to Argentina and ending the economic exile that followed the country's default in 2001. But over the last week, Argentina has been reminded that when capital is free to flow in, it can also flow out, creating profound economic implications. With foreign investors pulling their money en masse, Argentina's central bank was forced to take drastic action to stabilize the country's currency. On Friday, policymakers lifted the benchmark interest rate to 40 percent after days of intervening heavily in financial markets.  While it helped settle the markets, the move will weigh on the prospects for the president's ambitious economic overhaul. It also has the potential to crimp growth, adding to political discontent. The rate increase, a day after the Argentine peso fell 8.5 percent against the dollar, was the third in a week. The central bank said it would use \"all the tools at its disposal\" to slow inflation, which in March was up 25 percent from a year earlier, to 15 percent this year, a goal most analysts now see as unrealistic. In parallel, officials announced that they would cut government spending, and reduce the primary budget deficit to 2.7 percent, from the earlier goal of 3.2 percent. Their decision was seen as a response to criticism from investors that Mr. Macri's government had not been cutting spending quickly enough. Mr. Macri was sworn into office in December 2015. Argentina had been closed to international markets for more than a decade amid a long-running legal fight with bondholders that followed a default on its debt. Early on, Mr. Macri's policies were greeted with widespread optimism by financial markets, which gobbled up the country's newly issued bonds.  In a show of market confidence, prices for the country's government bonds rose, pushing interest rates lower. Those lower rates helped to stimulate economic growth. \"There was overconfidence on the part of policymakers about how much could be done given the constraints they had,\" said Alvaro Vivanco, a strategist covering Latin American bond and currency markets for the Spanish bank BBVA. But doubts about the government's ability to quickly push through the changes have emerged in recent months. In January, Argentina's central bank cut interest rates and increased its inflation target, a decision interpreted by some as weakening the government's commitment to getting consumer prices under control. \"The central bank was cutting, with inflation expectations deteriorating,\" said Gabriel Gersztein, head of Latin American strategy at BNP Paribas. \"And this was a wake-up call for international investors.\" The global economic backdrop has also been changing. With the United States economy on solid footing, its short-term interest rates have been rising. That has put upward pressure on the United States dollar, and has resulted in a slide for the peso. That decline in the peso has accelerated in recent days, as foreign investors began to see their returns vaporized by the falling currency. * Ford and Rivian no longer plan to work jointly on electric vehicles. * Elizabeth Holmes took the stand in her trial. Follow along with our reporters. * Ken Griffin, head of Citadel, bid highest for a copy of the Constitution. People moved to the exits, in part because of a new income tax on foreign investors. As more and more investors pulled out, Argentina was suddenly facing a currency run. Argentine officials have struggled to shore up the currency. Since March, Argentina has spent more than $7.7 billion of its international reserves, with the pace speeding up late last week.  Governments have a few tools they can use to stem the outflow of capital. One of them is to sharply raise interest rates. Those higher rates translate into potentially stronger returns for investors. As such, they can attract money into an economy, which helps prop up a currency. But it's a tricky play to pull off. Brazil raised interest rates sharply to stop an outflow of capital in the late 1990s, ultimately pushing benchmark interest rates to roughly 40 percent. More recently, in 2014, Turkey suddenly ratcheted up a key central bank rate to 10 percent from 4.5 percent in order to stop a sell-off in the lira. That same year, the central bank of Russia pushed interest rates sharply higher  to 17 percent from 10.5 percent  to keep the ruble from collapsing in response to sanctions over the annexation of Crimea and a sharp drop in oil prices. Russia also has one of the biggest interest-rate jumps on record, when in 1998 its rates reached 150 percent in an effort to stem another impending collapse of the ruble. But high interest rates have economic costs. They make it particularly difficult for businesses and consumer to borrow money. The lack of spending, in turn, can slow growth and ultimately spark a recession. The key for Argentina will be to keep rates high just long enough to inspire confidence that policymakers have halted the currency run, but not so long that the increase drains the economy. \"This was done in order to stop the bleeding,\" Mr. Gersztein of BNP Paribas said. \"It's like you have someone in the E.R. You need to take very short-term, bold decisions. \"Then once you stabilize the patient,\" he added, \"you need to take different decisions in order to make the patient get better and recover.\"  Politically, it all puts Mr. Macri in a more precarious position. In recent months, his popularity has declined. In an April poll of Argentines by Synopsis, a local consultancy, 43 percent said they had a negative view of the government, compared with 34 percent with a positive view. That was a sharp shift from November, when nearly 52 percent said they had a positive image of the government and Mr. Macri's allies did better than expected in midterm elections. The president is now balancing the concerns of a restive population and the needs of international investors  and they don't necessarily want the same thing. International investors want assurance that Mr. Macri will continue to cut spending and stick with other parts of his plan. But those same efforts are frustrating certain constituencies at home. Unions are worried that workers are losing purchasing power amid high inflation and a broad increase in public utility rates, part of the government's efforts to decrease spending by slashing subsidies. Hundreds gathered on Friday in downtown Buenos Aires outside the National Electricity Regulator for a union protest against recent increases in utility prices. Last month, thousands took to the streets to protest the hikes. The higher utility costs are hitting the manufacturing sector hard, particularly companies that compete against imported goods. Ancers, a tableware manufacturer in Buenos Aires, has seen its gas bill soar by 48 percent while electricity costs have doubled since the beginning of last year. During that time, the number of employees has declined by 25 percent, said Angel Vazquez, the company's founder and president. \"We may very well have to close soon,\" Mr. Vazquez said. \"I don't know if we can hold out for another year.\"  What happens next with the economy may translate into whether Mr. Macri's coalition will win the presidential election next year or whether discontent will give rise to an interventionist government that will undo many of his changes. Although the economy as a whole is growing  expanding 5.1 percent in February, on the year  the latest measures are prompting some analysts to revise their forecasts downward. \"The government so far has not been able to show big victories, and it's obvious that if it is going to take unpopular measures, its popularity will suffer,\" said Fausto Spotorno, the chief economist at Orlando Ferreres & Asociados, a local consultancy. \"But it has rushed many of the measures so that it can avoid bad news next year.\"\n",
      "\n",
      "Original Abstract:\n",
      " The move seeks to stabilize the country's currency, the peso, after a strong depreciation in recent days raised questions about the prospects for President Mauricio Macri's ambitious agenda.\n",
      "\n",
      "Generated Abstract:\n",
      " With foreign investors pulling out en masse, Argentina's central bank was forced to take drastic action to stabilize the country's currency, the peso. While it helped settle the markets, the move will weigh on the prospects for the president's ambitious economic overhaul, adding to political discontent.\n",
      "\n",
      "Example 3:\n",
      "Article:\n",
      " Metformin, the world's most widely prescribed diabetes drug, might do more than control diabetes. A study in Scotland in 2005 found that people taking metformin were 23 percent less likely to get cancer, suggesting that it might also prevent cancer. Other studies are exploring metformin's ability to treat cancer, alone and in combination with other therapies. But if you have cancer, it's likely you aren't taking metformin, even though it's inexpensive, safe and combines readily with other therapies. That's because metformin's label doesn't specify it as a cancer drug. And while doctors are free to use drugs approved for one disease for another disease, many don't. That could be changing. Given the enormous cost of developing new drugs, various organizations and individuals are going back to basics and championing the cause of drug repurposing in attempts to get new, affordable treatments to patients as quickly as possible.  \"Drug discovery is very costly and very slow,\" he said. \"We've shown we can be a lot faster and cost-effective. We have to be. We don't want to be charging six or seven figures to treat a rare disease. That just bankrupts health systems and families.\" Pfizer, which held the patent for Viagra, became eager to repurpose it to treat erectile dysfunction; it knew that such a pill would immediately be in wide demand. But that level of enthusiasm is rare. In most cases, by the time there's evidence of a new use for a drug, it's already off-patent  so companies have little or no financial incentive to investigate its potential to treat or prevent other diseases.  Without evidence of that potential, doctors are reluctant to prescribe. While precise figures are unavailable, hundreds of drugs have been approved for one disease but show promise in treating a range of others, from cancer to rare tropical diseases. Without interest from pharmaceutical companies, exploration has been left largely to nonprofit organizations and even patients themselves. The Anticancer Fund has trawled published scientific literature going as far back as the 1960s, and has identified almost 300 drugs that studies say hold anticancer properties, but have not been specifically approved for cancer. Most have lost patent protection. The fund is interested now in repurposing drugs that might prevent the recurrence of cancer after surgery when used in combination with checkpoint inhibitors  a form of cancer immunotherapy  to improve and sustain the immune system's response. One example for which it has high hopes is propranolol, a generic 1960s blood pressure drug, to help treat pancreatic cancer and cancer of the inner lining of blood vessels  known as angiosarcoma  in combination with other cancer therapies. Cancer Research UK, a charity based in London, is now conducting trials of aspirin to see if it can prevent cancer from recurring; an antifungal medication to treat bowel cancer; and metformin to help treat early prostate cancer. \"There's no doubt at all about the benefits of using an existing drug, generic or not generic, because it's a short cut to patient benefits,\" said Hamish Ryder, director of therapeutic discovery laboratories at Cancer Research UK. \"It could easily take off 10 years to getting a new therapy for patients.\" Drug repurposing still faces major barriers. The big one is the expense of clinical trials, which are too much for medical charities to handle  perhaps too much for anyone to handle if a drug is off patent and there is no money to be made. \"In the end, drug repurposing has to be commercially viable in some way,\" Dr. Brown said.  Another barrier is excitement. \"These are old unsexy drugs. If you're doing work with a new molecule there's a huge amount of interest,\" Mr. Pantziarka said. \"But if you're doing something with aspirin, it's not that interesting. You don't get that hype. We like to think medicine isn't fashion driven, but there is a degree of that going on.\" Doctor and patient acceptance is another concern. While off-label prescribing is entirely legal  the Food and Drug Administration doesn't have the legal authority to regulate the practice of medicine  many doctors still fear lawsuits. As I was told by one woman who preferred not to be identified in order to protect her privacy found out, many doctors disagree with experimenting with off-label drugs. Almost four years ago, that woman was diagnosed with an incurable, Stage 4 cancer of the bile ducts, known as cholangiocarcinoma. The cancer, which is extremely rare, had spread and 24 tumors had grown throughout her body. The patient, who had three children younger than 5 at the time of her diagnosis, was told she had six to 12 months to live. She quit her job and dedicated her time to finding a way  any way  of surviving. She saw as many doctors as possible to gain insight into her rare cancer, but some were unwilling to prescribe drugs outside the standard cancer treatments. \"I saw a doctor who thought more out of the box, and she recommended me to look into metformin,\" the patient said. Metformin does appear to inhibit the proliferation of tumor cells, but the mechanism underpinning that isn't yet fully understood. Nevertheless, she added metformin to her chemotherapy for six months. Her search for a cure didn't end there, however. It led next to fenbendazole, an anti-parasitic drug for animals. Joe Tippens, an American who was diagnosed with Stage 4 small-cell lung cancer in 2017, claims that taking fenbendazole saved his life; he has been cancer-free now for a year, and his story has gone viral on the internet. While a few studies in mice and petri dishes have suggested that the drug may have anticancer properties, studies on humans is lacking.  \"Dog deworming tablets are really cheap and have low toxicity,\" the patient said. \"Yes, they're meant for dogs, but for human use it's fine.\" The woman with bile duct cancer went into remission for seven months while she was using metformin in combination with chemotherapy, but the cancer came back. She is continuing chemotherapy and continues to search for repurposed drugs. Four years after her diagnosis, she hasn't lost hope. But how many patients, even on their deathbed, are willing to go beyond their prescribed treatment? Few can dedicate significant time to reading the scientific literature, especially without any prior medical knowledge. And health insurers are reluctant to pay for drugs that haven't been approved for the disease in question. There are no numbers on how many people have turned to metformin and other such drugs in their desperation to be cured. Mr. Pantziarka believes the key to expanding the use of repurposed drugs is in the hands of drug regulators, who have the power to approve and relabel them for new diseases. When a regulator licenses a drug, clinical guidelines are updated and doctors gain experience prescribing it. \"The ideal solution is for repurposed drugs to be on label, Mr. Pantziarka said. \"We want to establish a pathway that once you have the efficacy from clinical trials then you can go all the way to the market,\" he said. \"At the end of the day, repurposing is not just science and medicine but also policymaking.\" In an encouraging step toward overcoming the institutional barriers surrounding drug repurposing, such issues are under review by an expert group on repurposing within the European Commission. Currently only the original developers or makers of drugs are permitted to adjust a drug's label. But the review is looking at creating a way for third parties to apply for drug label extensions. \"We think today of today's generic drugs, but there's tomorrow's generic drugs,\" said Mr. Ryder of Cancer Research UK. \"I don't think we should limit our thinking to aspirin and metformin. I think that we're at the tip of the iceberg in terms of potential for repurposing therapies.\" Sophie Cousins is an Australian writer and freelance journalist. To receive email alerts for Fixes columns, sign up here. The Times is committed to publishing a diversity of letters to the editor. We'd like to hear what you think about this or any of our articles. Here are some tips. And here's our email: letters@nytimes.com. Follow The New York Times Opinion section on Facebook, Twitter (@NYTopinion) and Instagram.\n",
      "\n",
      "Original Abstract:\n",
      " While doctors are allowed to use drugs approved for one disease to treat another condition, many don't because approval to do so doesn't appear on the label. But that may be changing.\n",
      "\n",
      "Generated Abstract:\n",
      " Organizations and individuals are championing the cause of drug repurposing in an effort to get new, affordable treatments to patients as quickly as possible. But the process still faces major barriers, including the cost of clinical trials and the lack of interest from pharmaceutical companies so far.\n",
      "\n"
     ]
    }
   ],
   "source": [
    "def generate_abstracts(model, tokenizer, articles, original_abstracts, max_length=128, num_beams=4, device=\"cuda\"):\n",
    "    inputs = tokenizer(articles, max_length=1024, truncation=True, padding=\"max_length\", return_tensors=\"pt\")\n",
    "    inputs = {k: v.to(device) for k, v in inputs.items()}\n",
    "\n",
    "    with torch.no_grad():\n",
    "        model.to(device)\n",
    "        summaries = model.generate(input_ids=inputs[\"input_ids\"],\n",
    "                                   attention_mask=inputs[\"attention_mask\"],\n",
    "                                   length_penalty=0.8, num_beams=num_beams, max_length=max_length)\n",
    "\n",
    "    summaries = summaries.to(device)\n",
    "    decoded_summaries = [tokenizer.decode(s, skip_special_tokens=True, clean_up_tokenization_spaces=True) for s in\n",
    "                         summaries]\n",
    "\n",
    "    return decoded_summaries\n",
    "\n",
    "\n",
    "generated_abstracts = generate_abstracts(model_bart, tokenizer, ds['test'][3:6]['article'], ds['test'][3:6]['abstract'])\n",
    "\n",
    "for idx, (article, original_abstract, generated_abstract) in enumerate(zip(ds['test'][3:6]['article'], ds['test'][3:6]['abstract'], generated_abstracts), 1):\n",
    "    print(f\"Example {idx}:\")\n",
    "    print(\"Article:\\n\", article)\n",
    "    print(\"\\nOriginal Abstract:\\n\", original_abstract)\n",
    "    print(\"\\nGenerated Abstract:\\n\", generated_abstract)\n",
    "    print()"
   ]
  },
  {
   "cell_type": "code",
   "execution_count": 40,
   "id": "4354a6d1-c18e-4575-aadd-e38c581492e1",
   "metadata": {},
   "outputs": [
    {
     "name": "stderr",
     "output_type": "stream",
     "text": [
      "Some non-default generation parameters are set in the model config. These should go into a GenerationConfig file (https://huggingface.co/docs/transformers/generation_strategies#save-a-custom-decoding-strategy-with-your-model) instead. This warning will be raised to an exception in v4.41.\n",
      "Non-default generation parameters: {'max_length': 142, 'min_length': 56, 'early_stopping': True, 'num_beams': 4, 'length_penalty': 2.0, 'no_repeat_ngram_size': 3, 'forced_bos_token_id': 0, 'forced_eos_token_id': 2}\n"
     ]
    }
   ],
   "source": [
    "model_bart.save_pretrained(\"bart-cnn-model\")"
   ]
  },
  {
   "cell_type": "code",
   "execution_count": 42,
   "id": "309d89f5-d33a-4f01-9348-7df2052f1ee4",
   "metadata": {},
   "outputs": [
    {
     "data": {
      "text/plain": [
       "('bart-tokenizer/tokenizer_config.json',\n",
       " 'bart-tokenizer/special_tokens_map.json',\n",
       " 'bart-tokenizer/vocab.json',\n",
       " 'bart-tokenizer/merges.txt',\n",
       " 'bart-tokenizer/added_tokens.json',\n",
       " 'bart-tokenizer/tokenizer.json')"
      ]
     },
     "execution_count": 42,
     "metadata": {},
     "output_type": "execute_result"
    }
   ],
   "source": [
    "tokenizer.save_pretrained(\"bart-tokenizer\")"
   ]
  },
  {
   "cell_type": "markdown",
   "id": "dd5491e2-20f5-42ae-8603-0d7845a7ce1c",
   "metadata": {},
   "source": [
    "### Load Model From Local Files:"
   ]
  },
  {
   "cell_type": "code",
   "execution_count": 43,
   "id": "c50227dd-374b-466f-b334-11c109e7a440",
   "metadata": {},
   "outputs": [],
   "source": [
    "new_model = AutoModelForSeq2SeqLM.from_pretrained(\"bart-cnn-model\")"
   ]
  },
  {
   "cell_type": "code",
   "execution_count": 44,
   "id": "8a82e9a1-dde0-41cf-ba57-1f4fd514d2e0",
   "metadata": {},
   "outputs": [],
   "source": [
    "new_tokenizer = AutoTokenizer.from_pretrained(\"bart-tokenizer\")"
   ]
  },
  {
   "cell_type": "markdown",
   "id": "8e771f07-1724-440b-9600-b86359f7a256",
   "metadata": {},
   "source": [
    "#### Test loaded model:"
   ]
  },
  {
   "cell_type": "code",
   "execution_count": 45,
   "id": "42cf3352-9070-4d41-b763-f7ce097be456",
   "metadata": {},
   "outputs": [
    {
     "name": "stdout",
     "output_type": "stream",
     "text": [
      "Example 1:\n",
      "Article:\n",
      " CHURCHILL: BLOOD, SWEAT & OIL PAINT (2015) Stream on Acorn TV and Amazon. Winston Churchill is famous for his achievements as a statesman  successfully navigating Britain through World War II chief among them  and for his legendary wit and outsize appetites. This BBC special introduces viewers to a lesser known dimension of his life: his passion for painting. The journalist and television presenter Andrew Marr visits Churchill's studio at Chartwell, his longtime home, and some of the areas that he loved to paint. Marr also shares his own experiences with Churchill's preferred hobby. Interviews with Celia Sandys and Emma Soames, Churchill's descendants, reveal the extent of their grandfather's dedication to his craft. And commentary from David Coombs shines a light on Churchill's relationships with professional painters of his time.  DRUNK PARENTS (2019) Stream on Netflix; rent on Amazon, Google Play, iTunes, Vudu and YouTube. Comedy thrives on misfortune, especially when it befalls unsympathetic victims and encourages mischief. Frank (Alec Baldwin) and Nancy (Salma Hayek) are a seemingly wealthy couple who discover that their immediate financial future is bleak rather than bright. Frank's once-profitable company is going down the drain and their daughter Rachel has just started college at an Ivy League school. Fueled by booze, the desperate parents concoct scheme after scheme to try to wriggle out of their economic jam and keep Rachel enrolled while also hiding their plight from their neighbors and friends.\n",
      "\n",
      "Original Abstract:\n",
      " The comedian's culinary apprenticeship continues with a new self-shot season. And a cult classic starring Rose McGowan arrives on Shudder.\n",
      "\n",
      "Generated Abstract:\n",
      " These eight U.S.-based music festivals are notable for their stunning settings, extracurricular programming and highly curated, alternative lineups, from Wilco to Afropunk, Huichica to Mötchengladbach, among others.\n",
      "\n",
      "Example 2:\n",
      "Article:\n",
      " BUENOS AIRES  Since his 2015 election, President Mauricio Macri has pushed to reconnect Argentina to the global financial system, after years of isolation. His approach  emphasizing lower tariffs, accurate economic data, trade pacts and the freer flow of capital  was largely aimed at coaxing foreign investment back to Argentina and ending the economic exile that followed the country's default in 2001. But over the last week, Argentina has been reminded that when capital is free to flow in, it can also flow out, creating profound economic implications. With foreign investors pulling their money en masse, Argentina's central bank was forced to take drastic action to stabilize the country's currency. On Friday, policymakers lifted the benchmark interest rate to 40 percent after days of intervening heavily in financial markets.  While it helped settle the markets, the move will weigh on the prospects for the president's ambitious economic overhaul. It also has the potential to crimp growth, adding to political discontent. The rate increase, a day after the Argentine peso fell 8.5 percent against the dollar, was the third in a week. The central bank said it would use \"all the tools at its disposal\" to slow inflation, which in March was up 25 percent from a year earlier, to 15 percent this year, a goal most analysts now see as unrealistic. In parallel, officials announced that they would cut government spending, and reduce the primary budget deficit to 2.7 percent, from the earlier goal of 3.2 percent. Their decision was seen as a response to criticism from investors that Mr. Macri's government had not been cutting spending quickly enough. Mr. Macri was sworn into office in December 2015. Argentina had been closed to international markets for more than a decade amid a long-running legal fight with bondholders that followed a default on its debt. Early on, Mr. Macri's policies were greeted with widespread optimism by financial markets, which gobbled up the country's newly issued bonds.  In a show of market confidence, prices for the country's government bonds rose, pushing interest rates lower. Those lower rates helped to stimulate economic growth. \"There was overconfidence on the part of policymakers about how much could be done given the constraints they had,\" said Alvaro Vivanco, a strategist covering Latin American bond and currency markets for the Spanish bank BBVA. But doubts about the government's ability to quickly push through the changes have emerged in recent months. In January, Argentina's central bank cut interest rates and increased its inflation target, a decision interpreted by some as weakening the government's commitment to getting consumer prices under control. \"The central bank was cutting, with inflation expectations deteriorating,\" said Gabriel Gersztein, head of Latin American strategy at BNP Paribas. \"And this was a wake-up call for international investors.\" The global economic backdrop has also been changing. With the United States economy on solid footing, its short-term interest rates have been rising. That has put upward pressure on the United States dollar, and has resulted in a slide for the peso. That decline in the peso has accelerated in recent days, as foreign investors began to see their returns vaporized by the falling currency. * Ford and Rivian no longer plan to work jointly on electric vehicles. * Elizabeth Holmes took the stand in her trial. Follow along with our reporters. * Ken Griffin, head of Citadel, bid highest for a copy of the Constitution. People moved to the exits, in part because of a new income tax on foreign investors. As more and more investors pulled out, Argentina was suddenly facing a currency run. Argentine officials have struggled to shore up the currency. Since March, Argentina has spent more than $7.7 billion of its international reserves, with the pace speeding up late last week.  Governments have a few tools they can use to stem the outflow of capital. One of them is to sharply raise interest rates. Those higher rates translate into potentially stronger returns for investors. As such, they can attract money into an economy, which helps prop up a currency. But it's a tricky play to pull off. Brazil raised interest rates sharply to stop an outflow of capital in the late 1990s, ultimately pushing benchmark interest rates to roughly 40 percent. More recently, in 2014, Turkey suddenly ratcheted up a key central bank rate to 10 percent from 4.5 percent in order to stop a sell-off in the lira. That same year, the central bank of Russia pushed interest rates sharply higher  to 17 percent from 10.5 percent  to keep the ruble from collapsing in response to sanctions over the annexation of Crimea and a sharp drop in oil prices. Russia also has one of the biggest interest-rate jumps on record, when in 1998 its rates reached 150 percent in an effort to stem another impending collapse of the ruble. But high interest rates have economic costs. They make it particularly difficult for businesses and consumer to borrow money. The lack of spending, in turn, can slow growth and ultimately spark a recession. The key for Argentina will be to keep rates high just long enough to inspire confidence that policymakers have halted the currency run, but not so long that the increase drains the economy. \"This was done in order to stop the bleeding,\" Mr. Gersztein of BNP Paribas said. \"It's like you have someone in the E.R. You need to take very short-term, bold decisions. \"Then once you stabilize the patient,\" he added, \"you need to take different decisions in order to make the patient get better and recover.\"  Politically, it all puts Mr. Macri in a more precarious position. In recent months, his popularity has declined. In an April poll of Argentines by Synopsis, a local consultancy, 43 percent said they had a negative view of the government, compared with 34 percent with a positive view. That was a sharp shift from November, when nearly 52 percent said they had a positive image of the government and Mr. Macri's allies did better than expected in midterm elections. The president is now balancing the concerns of a restive population and the needs of international investors  and they don't necessarily want the same thing. International investors want assurance that Mr. Macri will continue to cut spending and stick with other parts of his plan. But those same efforts are frustrating certain constituencies at home. Unions are worried that workers are losing purchasing power amid high inflation and a broad increase in public utility rates, part of the government's efforts to decrease spending by slashing subsidies. Hundreds gathered on Friday in downtown Buenos Aires outside the National Electricity Regulator for a union protest against recent increases in utility prices. Last month, thousands took to the streets to protest the hikes. The higher utility costs are hitting the manufacturing sector hard, particularly companies that compete against imported goods. Ancers, a tableware manufacturer in Buenos Aires, has seen its gas bill soar by 48 percent while electricity costs have doubled since the beginning of last year. During that time, the number of employees has declined by 25 percent, said Angel Vazquez, the company's founder and president. \"We may very well have to close soon,\" Mr. Vazquez said. \"I don't know if we can hold out for another year.\"  What happens next with the economy may translate into whether Mr. Macri's coalition will win the presidential election next year or whether discontent will give rise to an interventionist government that will undo many of his changes. Although the economy as a whole is growing  expanding 5.1 percent in February, on the year  the latest measures are prompting some analysts to revise their forecasts downward. \"The government so far has not been able to show big victories, and it's obvious that if it is going to take unpopular measures, its popularity will suffer,\" said Fausto Spotorno, the chief economist at Orlando Ferreres & Asociados, a local consultancy. \"But it has rushed many of the measures so that it can avoid bad news next year.\"\n",
      "\n",
      "Original Abstract:\n",
      " The move seeks to stabilize the country's currency, the peso, after a strong depreciation in recent days raised questions about the prospects for President Mauricio Macri's ambitious agenda.\n",
      "\n",
      "Generated Abstract:\n",
      " In her new book, \"Point of View,\" the former Vogue fashion director and contributing editor opens up about the highs and lows of her 20-year run as the magazine's chief style stylist, and the joys and trials of a new chapter in her life.\n",
      "\n",
      "Example 3:\n",
      "Article:\n",
      " Metformin, the world's most widely prescribed diabetes drug, might do more than control diabetes. A study in Scotland in 2005 found that people taking metformin were 23 percent less likely to get cancer, suggesting that it might also prevent cancer. Other studies are exploring metformin's ability to treat cancer, alone and in combination with other therapies. But if you have cancer, it's likely you aren't taking metformin, even though it's inexpensive, safe and combines readily with other therapies. That's because metformin's label doesn't specify it as a cancer drug. And while doctors are free to use drugs approved for one disease for another disease, many don't. That could be changing. Given the enormous cost of developing new drugs, various organizations and individuals are going back to basics and championing the cause of drug repurposing in attempts to get new, affordable treatments to patients as quickly as possible.  \"Drug discovery is very costly and very slow,\" he said. \"We've shown we can be a lot faster and cost-effective. We have to be. We don't want to be charging six or seven figures to treat a rare disease. That just bankrupts health systems and families.\" Pfizer, which held the patent for Viagra, became eager to repurpose it to treat erectile dysfunction; it knew that such a pill would immediately be in wide demand. But that level of enthusiasm is rare. In most cases, by the time there's evidence of a new use for a drug, it's already off-patent  so companies have little or no financial incentive to investigate its potential to treat or prevent other diseases.  Without evidence of that potential, doctors are reluctant to prescribe. While precise figures are unavailable, hundreds of drugs have been approved for one disease but show promise in treating a range of others, from cancer to rare tropical diseases. Without interest from pharmaceutical companies, exploration has been left largely to nonprofit organizations and even patients themselves. The Anticancer Fund has trawled published scientific literature going as far back as the 1960s, and has identified almost 300 drugs that studies say hold anticancer properties, but have not been specifically approved for cancer. Most have lost patent protection. The fund is interested now in repurposing drugs that might prevent the recurrence of cancer after surgery when used in combination with checkpoint inhibitors  a form of cancer immunotherapy  to improve and sustain the immune system's response. One example for which it has high hopes is propranolol, a generic 1960s blood pressure drug, to help treat pancreatic cancer and cancer of the inner lining of blood vessels  known as angiosarcoma  in combination with other cancer therapies. Cancer Research UK, a charity based in London, is now conducting trials of aspirin to see if it can prevent cancer from recurring; an antifungal medication to treat bowel cancer; and metformin to help treat early prostate cancer. \"There's no doubt at all about the benefits of using an existing drug, generic or not generic, because it's a short cut to patient benefits,\" said Hamish Ryder, director of therapeutic discovery laboratories at Cancer Research UK. \"It could easily take off 10 years to getting a new therapy for patients.\" Drug repurposing still faces major barriers. The big one is the expense of clinical trials, which are too much for medical charities to handle  perhaps too much for anyone to handle if a drug is off patent and there is no money to be made. \"In the end, drug repurposing has to be commercially viable in some way,\" Dr. Brown said.  Another barrier is excitement. \"These are old unsexy drugs. If you're doing work with a new molecule there's a huge amount of interest,\" Mr. Pantziarka said. \"But if you're doing something with aspirin, it's not that interesting. You don't get that hype. We like to think medicine isn't fashion driven, but there is a degree of that going on.\" Doctor and patient acceptance is another concern. While off-label prescribing is entirely legal  the Food and Drug Administration doesn't have the legal authority to regulate the practice of medicine  many doctors still fear lawsuits. As I was told by one woman who preferred not to be identified in order to protect her privacy found out, many doctors disagree with experimenting with off-label drugs. Almost four years ago, that woman was diagnosed with an incurable, Stage 4 cancer of the bile ducts, known as cholangiocarcinoma. The cancer, which is extremely rare, had spread and 24 tumors had grown throughout her body. The patient, who had three children younger than 5 at the time of her diagnosis, was told she had six to 12 months to live. She quit her job and dedicated her time to finding a way  any way  of surviving. She saw as many doctors as possible to gain insight into her rare cancer, but some were unwilling to prescribe drugs outside the standard cancer treatments. \"I saw a doctor who thought more out of the box, and she recommended me to look into metformin,\" the patient said. Metformin does appear to inhibit the proliferation of tumor cells, but the mechanism underpinning that isn't yet fully understood. Nevertheless, she added metformin to her chemotherapy for six months. Her search for a cure didn't end there, however. It led next to fenbendazole, an anti-parasitic drug for animals. Joe Tippens, an American who was diagnosed with Stage 4 small-cell lung cancer in 2017, claims that taking fenbendazole saved his life; he has been cancer-free now for a year, and his story has gone viral on the internet. While a few studies in mice and petri dishes have suggested that the drug may have anticancer properties, studies on humans is lacking.  \"Dog deworming tablets are really cheap and have low toxicity,\" the patient said. \"Yes, they're meant for dogs, but for human use it's fine.\" The woman with bile duct cancer went into remission for seven months while she was using metformin in combination with chemotherapy, but the cancer came back. She is continuing chemotherapy and continues to search for repurposed drugs. Four years after her diagnosis, she hasn't lost hope. But how many patients, even on their deathbed, are willing to go beyond their prescribed treatment? Few can dedicate significant time to reading the scientific literature, especially without any prior medical knowledge. And health insurers are reluctant to pay for drugs that haven't been approved for the disease in question. There are no numbers on how many people have turned to metformin and other such drugs in their desperation to be cured. Mr. Pantziarka believes the key to expanding the use of repurposed drugs is in the hands of drug regulators, who have the power to approve and relabel them for new diseases. When a regulator licenses a drug, clinical guidelines are updated and doctors gain experience prescribing it. \"The ideal solution is for repurposed drugs to be on label, Mr. Pantziarka said. \"We want to establish a pathway that once you have the efficacy from clinical trials then you can go all the way to the market,\" he said. \"At the end of the day, repurposing is not just science and medicine but also policymaking.\" In an encouraging step toward overcoming the institutional barriers surrounding drug repurposing, such issues are under review by an expert group on repurposing within the European Commission. Currently only the original developers or makers of drugs are permitted to adjust a drug's label. But the review is looking at creating a way for third parties to apply for drug label extensions. \"We think today of today's generic drugs, but there's tomorrow's generic drugs,\" said Mr. Ryder of Cancer Research UK. \"I don't think we should limit our thinking to aspirin and metformin. I think that we're at the tip of the iceberg in terms of potential for repurposing therapies.\" Sophie Cousins is an Australian writer and freelance journalist. To receive email alerts for Fixes columns, sign up here. The Times is committed to publishing a diversity of letters to the editor. We'd like to hear what you think about this or any of our articles. Here are some tips. And here's our email: letters@nytimes.com. Follow The New York Times Opinion section on Facebook, Twitter (@NYTopinion) and Instagram.\n",
      "\n",
      "Original Abstract:\n",
      " While doctors are allowed to use drugs approved for one disease to treat another condition, many don't because approval to do so doesn't appear on the label. But that may be changing.\n",
      "\n",
      "Generated Abstract:\n",
      " The Dayton area has more than a dozen sites for aviation enthusiasts to visit, including the bicycle shop occupied in 1892 by the Wright Brothers and the Baptist church where Orville Wright's funeral was held in 1948. Among the options are five stops specific to the birth of flight that are part of Dayton Aviation Heritage National Historical Park.\n",
      "\n"
     ]
    }
   ],
   "source": [
    "generated_abstracts = generate_abstracts(new_model, new_tokenizer, ds['test'][:3]['article'], ds['test'][:3]['abstract'])\n",
    "for idx, (article, original_abstract, generated_abstract) in enumerate(zip(ds['test'][3:6]['article'], ds['test'][3:6]['abstract'], generated_abstracts), 1):\n",
    "    print(f\"Example {idx}:\")\n",
    "    print(\"Article:\\n\", article)\n",
    "    print(\"\\nOriginal Abstract:\\n\", original_abstract)\n",
    "    print(\"\\nGenerated Abstract:\\n\", generated_abstract)\n",
    "    print()"
   ]
  },
  {
   "cell_type": "markdown",
   "id": "2d61bb7e-aa98-4dd7-a9fe-5dce697e21b2",
   "metadata": {},
   "source": [
    "### Level 3: The Advanced\n",
    "#### Generate captions for each news article's image that accurately reflect the content."
   ]
  },
  {
   "cell_type": "markdown",
   "id": "62d2f53b-29a9-453c-8aac-4daed03c33fe",
   "metadata": {},
   "source": [
    "Unfortunatly, I didn't have the time to implement the solution for this, but my roadmap was:<br/>\n",
    "1- Use a pre-trained Convolutional Neural Network (CNN) for image feature extraction (e.g., VGG, ResNet).<br/>\n",
    "2- Use a pre-trained Language Model (e.g. BERT) for text generation.<br/>\n",
    "3- Combine CNN and LM:<br/>\n",
    "    - CNN processes the image and extracts features.<br/>\n",
    "    - LM generates the summary based on these features."
   ]
  }
 ],
 "metadata": {
  "kernelspec": {
   "display_name": "Python 3 (ipykernel)",
   "language": "python",
   "name": "python3"
  },
  "language_info": {
   "codemirror_mode": {
    "name": "ipython",
    "version": 3
   },
   "file_extension": ".py",
   "mimetype": "text/x-python",
   "name": "python",
   "nbconvert_exporter": "python",
   "pygments_lexer": "ipython3",
   "version": "3.11.7"
  }
 },
 "nbformat": 4,
 "nbformat_minor": 5
}
